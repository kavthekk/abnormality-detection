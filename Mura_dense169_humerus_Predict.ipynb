{
  "nbformat": 4,
  "nbformat_minor": 0,
  "metadata": {
    "colab": {
      "name": "Mura_dense169_humerus - Predict.ipynb",
      "provenance": [],
      "collapsed_sections": []
    },
    "kernelspec": {
      "display_name": "Python 3",
      "language": "python",
      "name": "python3"
    },
    "language_info": {
      "codemirror_mode": {
        "name": "ipython",
        "version": 3
      },
      "file_extension": ".py",
      "mimetype": "text/x-python",
      "name": "python",
      "nbconvert_exporter": "python",
      "pygments_lexer": "ipython3",
      "version": "3.6.5"
    }
  },
  "cells": [
    {
      "cell_type": "code",
      "metadata": {
        "colab": {
          "base_uri": "https://localhost:8080/"
        },
        "id": "duLJOQg-sz76",
        "outputId": "117de1d2-b2cb-4add-f01f-48fe4d094551"
      },
      "source": [
        "from google.colab import drive\n",
        "drive.mount('/content/drive')"
      ],
      "execution_count": null,
      "outputs": [
        {
          "output_type": "stream",
          "text": [
            "Mounted at /content/drive\n"
          ],
          "name": "stdout"
        }
      ]
    },
    {
      "cell_type": "code",
      "metadata": {
        "id": "Xittnt6U7wYs"
      },
      "source": [
        "import sys\n",
        "sys.path.insert(0,'/content/drive/MyDrive/MuraDataset')"
      ],
      "execution_count": null,
      "outputs": []
    },
    {
      "cell_type": "code",
      "metadata": {
        "id": "jmO8bVJEm-9C"
      },
      "source": [
        "import os\n",
        "import numpy as np\n",
        "import pandas as pd\n",
        "import seaborn as sns\n",
        "import matplotlib.pyplot as plt\n",
        "from matplotlib.pyplot import imshow\n",
        "%matplotlib inline\n",
        "\n",
        "from keras.preprocessing.image import ImageDataGenerator, load_img\n",
        "# from keras_preprocessing.image import ImageDataGenerator,load_img\n",
        "from keras.applications.densenet import DenseNet169\n",
        "from keras.models import Model\n",
        "from keras import layers\n",
        "from keras.layers import Input, Dense\n",
        "from keras.optimizers import Adam\n",
        "from keras import backend as K\n",
        "from keras.callbacks import ModelCheckpoint\n",
        "\n",
        "\n",
        "from sklearn.model_selection import train_test_split"
      ],
      "execution_count": null,
      "outputs": []
    },
    {
      "cell_type": "code",
      "metadata": {
        "colab": {
          "base_uri": "https://localhost:8080/"
        },
        "id": "1O9fakNsm-9K",
        "outputId": "306d8f49-e3e4-41d2-f596-62ed8a00e8d0"
      },
      "source": [
        "os.listdir(\"/content/drive/MyDrive/MuraDataset/MURA-v1.1\")"
      ],
      "execution_count": null,
      "outputs": [
        {
          "output_type": "execute_result",
          "data": {
            "text/plain": [
              "['valid_labeled_studies.csv',\n",
              " 'train_labeled_studies.csv',\n",
              " 'valid_image_paths.csv',\n",
              " 'train_image_paths.csv',\n",
              " 'train_images_display_copy.csv',\n",
              " 'train_images_display.csv',\n",
              " 'valid',\n",
              " 'train']"
            ]
          },
          "metadata": {
            "tags": []
          },
          "execution_count": 4
        }
      ]
    },
    {
      "cell_type": "code",
      "metadata": {
        "id": "HYXH4HIDm-9O"
      },
      "source": [
        "# Train set studies with labels\n",
        "df=pd.read_csv('/content/drive/MyDrive/MuraDataset/MURA-v1.1/train_labeled_studies.csv', names=['Train_Image','Train_Label'])"
      ],
      "execution_count": null,
      "outputs": []
    },
    {
      "cell_type": "code",
      "metadata": {
        "colab": {
          "base_uri": "https://localhost:8080/",
          "height": 204
        },
        "id": "j8mGHpkPm-9O",
        "outputId": "660f114e-18b2-4d29-b8b0-3e368b6f7a97"
      },
      "source": [
        "df.head()"
      ],
      "execution_count": null,
      "outputs": [
        {
          "output_type": "execute_result",
          "data": {
            "text/html": [
              "<div>\n",
              "<style scoped>\n",
              "    .dataframe tbody tr th:only-of-type {\n",
              "        vertical-align: middle;\n",
              "    }\n",
              "\n",
              "    .dataframe tbody tr th {\n",
              "        vertical-align: top;\n",
              "    }\n",
              "\n",
              "    .dataframe thead th {\n",
              "        text-align: right;\n",
              "    }\n",
              "</style>\n",
              "<table border=\"1\" class=\"dataframe\">\n",
              "  <thead>\n",
              "    <tr style=\"text-align: right;\">\n",
              "      <th></th>\n",
              "      <th>Train_Image</th>\n",
              "      <th>Train_Label</th>\n",
              "    </tr>\n",
              "  </thead>\n",
              "  <tbody>\n",
              "    <tr>\n",
              "      <th>0</th>\n",
              "      <td>MURA-v1.1/train/XR_SHOULDER/patient00001/study...</td>\n",
              "      <td>1</td>\n",
              "    </tr>\n",
              "    <tr>\n",
              "      <th>1</th>\n",
              "      <td>MURA-v1.1/train/XR_SHOULDER/patient00002/study...</td>\n",
              "      <td>1</td>\n",
              "    </tr>\n",
              "    <tr>\n",
              "      <th>2</th>\n",
              "      <td>MURA-v1.1/train/XR_SHOULDER/patient00003/study...</td>\n",
              "      <td>1</td>\n",
              "    </tr>\n",
              "    <tr>\n",
              "      <th>3</th>\n",
              "      <td>MURA-v1.1/train/XR_SHOULDER/patient00004/study...</td>\n",
              "      <td>1</td>\n",
              "    </tr>\n",
              "    <tr>\n",
              "      <th>4</th>\n",
              "      <td>MURA-v1.1/train/XR_SHOULDER/patient00005/study...</td>\n",
              "      <td>1</td>\n",
              "    </tr>\n",
              "  </tbody>\n",
              "</table>\n",
              "</div>"
            ],
            "text/plain": [
              "                                         Train_Image  Train_Label\n",
              "0  MURA-v1.1/train/XR_SHOULDER/patient00001/study...            1\n",
              "1  MURA-v1.1/train/XR_SHOULDER/patient00002/study...            1\n",
              "2  MURA-v1.1/train/XR_SHOULDER/patient00003/study...            1\n",
              "3  MURA-v1.1/train/XR_SHOULDER/patient00004/study...            1\n",
              "4  MURA-v1.1/train/XR_SHOULDER/patient00005/study...            1"
            ]
          },
          "metadata": {
            "tags": []
          },
          "execution_count": 6
        }
      ]
    },
    {
      "cell_type": "code",
      "metadata": {
        "id": "2BjD4R7Cm-9P"
      },
      "source": [
        "# Adding labels to individual images in train set\n",
        "df1=pd.read_csv('/content/drive/MyDrive/MuraDataset/MURA-v1.1/train_image_paths.csv', names=['Train_Image'])\n",
        "df1 = df1[df1['Train_Image'].str.split('/').str[2]== 'XR_HUMERUS']\n",
        "names=df1['Train_Image'].values\n"
      ],
      "execution_count": null,
      "outputs": []
    },
    {
      "cell_type": "code",
      "metadata": {
        "id": "rf31UFrOm-9Q"
      },
      "source": [
        "train_labels=[]\n",
        "\n",
        "for i in names:\n",
        "    if ('positive' in i):\n",
        "        train_labels.append('1')\n",
        "    elif('negative' in i):\n",
        "        train_labels.append('0')\n",
        "\n",
        "train_labels = np.array(train_labels)\n",
        "#labels = pd.DataFrame(labels, columns=['Image', 'Label'])\n",
        "df1.insert(1, 'Train_Label', train_labels)"
      ],
      "execution_count": null,
      "outputs": []
    },
    {
      "cell_type": "code",
      "metadata": {
        "colab": {
          "base_uri": "https://localhost:8080/"
        },
        "id": "d4HglidDm-9R",
        "outputId": "f2d2709f-6708-44dd-f3ac-c5e0d9f97a20"
      },
      "source": [
        "print(train_labels)"
      ],
      "execution_count": null,
      "outputs": [
        {
          "output_type": "stream",
          "text": [
            "['1' '1' '1' ... '0' '0' '0']\n"
          ],
          "name": "stdout"
        }
      ]
    },
    {
      "cell_type": "code",
      "metadata": {
        "colab": {
          "base_uri": "https://localhost:8080/",
          "height": 204
        },
        "id": "XM5-QDwKm-9R",
        "outputId": "d1da7a48-c80b-4954-e2b2-2e3a0fec6bf6"
      },
      "source": [
        "df1.head()"
      ],
      "execution_count": null,
      "outputs": [
        {
          "output_type": "execute_result",
          "data": {
            "text/html": [
              "<div>\n",
              "<style scoped>\n",
              "    .dataframe tbody tr th:only-of-type {\n",
              "        vertical-align: middle;\n",
              "    }\n",
              "\n",
              "    .dataframe tbody tr th {\n",
              "        vertical-align: top;\n",
              "    }\n",
              "\n",
              "    .dataframe thead th {\n",
              "        text-align: right;\n",
              "    }\n",
              "</style>\n",
              "<table border=\"1\" class=\"dataframe\">\n",
              "  <thead>\n",
              "    <tr style=\"text-align: right;\">\n",
              "      <th></th>\n",
              "      <th>Train_Image</th>\n",
              "      <th>Train_Label</th>\n",
              "    </tr>\n",
              "  </thead>\n",
              "  <tbody>\n",
              "    <tr>\n",
              "      <th>8379</th>\n",
              "      <td>MURA-v1.1/train/XR_HUMERUS/patient02695/study1...</td>\n",
              "      <td>1</td>\n",
              "    </tr>\n",
              "    <tr>\n",
              "      <th>8380</th>\n",
              "      <td>MURA-v1.1/train/XR_HUMERUS/patient02626/study1...</td>\n",
              "      <td>1</td>\n",
              "    </tr>\n",
              "    <tr>\n",
              "      <th>8381</th>\n",
              "      <td>MURA-v1.1/train/XR_HUMERUS/patient02626/study1...</td>\n",
              "      <td>1</td>\n",
              "    </tr>\n",
              "    <tr>\n",
              "      <th>8382</th>\n",
              "      <td>MURA-v1.1/train/XR_HUMERUS/patient02696/study1...</td>\n",
              "      <td>1</td>\n",
              "    </tr>\n",
              "    <tr>\n",
              "      <th>8383</th>\n",
              "      <td>MURA-v1.1/train/XR_HUMERUS/patient02696/study1...</td>\n",
              "      <td>1</td>\n",
              "    </tr>\n",
              "  </tbody>\n",
              "</table>\n",
              "</div>"
            ],
            "text/plain": [
              "                                            Train_Image Train_Label\n",
              "8379  MURA-v1.1/train/XR_HUMERUS/patient02695/study1...           1\n",
              "8380  MURA-v1.1/train/XR_HUMERUS/patient02626/study1...           1\n",
              "8381  MURA-v1.1/train/XR_HUMERUS/patient02626/study1...           1\n",
              "8382  MURA-v1.1/train/XR_HUMERUS/patient02696/study1...           1\n",
              "8383  MURA-v1.1/train/XR_HUMERUS/patient02696/study1...           1"
            ]
          },
          "metadata": {
            "tags": []
          },
          "execution_count": 10
        }
      ]
    },
    {
      "cell_type": "code",
      "metadata": {
        "colab": {
          "base_uri": "https://localhost:8080/"
        },
        "id": "lUAKKxKNm-9S",
        "outputId": "a998b248-c769-4915-cda8-672259ea4d9b"
      },
      "source": [
        "df1.shape"
      ],
      "execution_count": null,
      "outputs": [
        {
          "output_type": "execute_result",
          "data": {
            "text/plain": [
              "(1272, 2)"
            ]
          },
          "metadata": {
            "tags": []
          },
          "execution_count": 11
        }
      ]
    },
    {
      "cell_type": "code",
      "metadata": {
        "id": "RK4uwvWOm-9T"
      },
      "source": [
        "df1['Train_Image'] = '/content/drive/MyDrive/MuraDataset/' + df1['Train_Image']"
      ],
      "execution_count": null,
      "outputs": []
    },
    {
      "cell_type": "code",
      "metadata": {
        "id": "0tK6azJum-9T"
      },
      "source": [
        "df1.to_csv('Train_set.csv', index=False)"
      ],
      "execution_count": null,
      "outputs": []
    },
    {
      "cell_type": "code",
      "metadata": {
        "id": "g3FpiM8Lm-9U"
      },
      "source": [
        "#Validation set studies with labels\n",
        "df_valid=pd.read_csv('/content/drive/MyDrive/MuraDataset/MURA-v1.1/valid_labeled_studies.csv', names=['Valid_Image','Valid_Label'])"
      ],
      "execution_count": null,
      "outputs": []
    },
    {
      "cell_type": "code",
      "metadata": {
        "colab": {
          "base_uri": "https://localhost:8080/",
          "height": 204
        },
        "id": "DcT8SrwZm-9U",
        "outputId": "5f55dbf1-ca7d-4320-eff6-a202840014ad"
      },
      "source": [
        "df_valid.head()"
      ],
      "execution_count": null,
      "outputs": [
        {
          "output_type": "execute_result",
          "data": {
            "text/html": [
              "<div>\n",
              "<style scoped>\n",
              "    .dataframe tbody tr th:only-of-type {\n",
              "        vertical-align: middle;\n",
              "    }\n",
              "\n",
              "    .dataframe tbody tr th {\n",
              "        vertical-align: top;\n",
              "    }\n",
              "\n",
              "    .dataframe thead th {\n",
              "        text-align: right;\n",
              "    }\n",
              "</style>\n",
              "<table border=\"1\" class=\"dataframe\">\n",
              "  <thead>\n",
              "    <tr style=\"text-align: right;\">\n",
              "      <th></th>\n",
              "      <th>Valid_Image</th>\n",
              "      <th>Valid_Label</th>\n",
              "    </tr>\n",
              "  </thead>\n",
              "  <tbody>\n",
              "    <tr>\n",
              "      <th>0</th>\n",
              "      <td>MURA-v1.1/valid/XR_WRIST/patient11185/study1_p...</td>\n",
              "      <td>1</td>\n",
              "    </tr>\n",
              "    <tr>\n",
              "      <th>1</th>\n",
              "      <td>MURA-v1.1/valid/XR_WRIST/patient11186/study1_p...</td>\n",
              "      <td>1</td>\n",
              "    </tr>\n",
              "    <tr>\n",
              "      <th>2</th>\n",
              "      <td>MURA-v1.1/valid/XR_WRIST/patient11186/study2_p...</td>\n",
              "      <td>1</td>\n",
              "    </tr>\n",
              "    <tr>\n",
              "      <th>3</th>\n",
              "      <td>MURA-v1.1/valid/XR_WRIST/patient11186/study3_p...</td>\n",
              "      <td>1</td>\n",
              "    </tr>\n",
              "    <tr>\n",
              "      <th>4</th>\n",
              "      <td>MURA-v1.1/valid/XR_WRIST/patient11187/study1_p...</td>\n",
              "      <td>1</td>\n",
              "    </tr>\n",
              "  </tbody>\n",
              "</table>\n",
              "</div>"
            ],
            "text/plain": [
              "                                         Valid_Image  Valid_Label\n",
              "0  MURA-v1.1/valid/XR_WRIST/patient11185/study1_p...            1\n",
              "1  MURA-v1.1/valid/XR_WRIST/patient11186/study1_p...            1\n",
              "2  MURA-v1.1/valid/XR_WRIST/patient11186/study2_p...            1\n",
              "3  MURA-v1.1/valid/XR_WRIST/patient11186/study3_p...            1\n",
              "4  MURA-v1.1/valid/XR_WRIST/patient11187/study1_p...            1"
            ]
          },
          "metadata": {
            "tags": []
          },
          "execution_count": 15
        }
      ]
    },
    {
      "cell_type": "code",
      "metadata": {
        "id": "yxjTIHYym-9V"
      },
      "source": [
        "# Adding labels to individual images in validation set\n",
        "df_valid1=pd.read_csv('/content/drive/MyDrive/MuraDataset/MURA-v1.1/valid_image_paths.csv', names=['Valid_Image'])\n",
        "df_valid1 = df_valid1[df_valid1['Valid_Image'].str.split('/').str[2]== 'XR_HUMERUS']\n",
        "names=df_valid1['Valid_Image'].values\n",
        "valid_labels=[]\n",
        "\n",
        "for i in names:\n",
        "  if ('positive' in i):\n",
        "    valid_labels.append('1')\n",
        "  elif('negative' in i):\n",
        "    valid_labels.append('0')\n",
        "\n",
        "valid_labels = np.array(valid_labels)\n",
        "#labels = pd.DataFrame(labels, columns=['Image', 'Label'])\n",
        "df_valid1.insert(1, 'Valid_Label', valid_labels)\n",
        "df_valid1.to_csv('Valid_set.csv', index=False)"
      ],
      "execution_count": null,
      "outputs": []
    },
    {
      "cell_type": "code",
      "metadata": {
        "colab": {
          "base_uri": "https://localhost:8080/",
          "height": 204
        },
        "id": "eaXGHYKQm-9W",
        "outputId": "a8baf6f9-76bb-4c1c-8cf4-52525fefd03a"
      },
      "source": [
        "df_valid1.head()"
      ],
      "execution_count": null,
      "outputs": [
        {
          "output_type": "execute_result",
          "data": {
            "text/html": [
              "<div>\n",
              "<style scoped>\n",
              "    .dataframe tbody tr th:only-of-type {\n",
              "        vertical-align: middle;\n",
              "    }\n",
              "\n",
              "    .dataframe tbody tr th {\n",
              "        vertical-align: top;\n",
              "    }\n",
              "\n",
              "    .dataframe thead th {\n",
              "        text-align: right;\n",
              "    }\n",
              "</style>\n",
              "<table border=\"1\" class=\"dataframe\">\n",
              "  <thead>\n",
              "    <tr style=\"text-align: right;\">\n",
              "      <th></th>\n",
              "      <th>Valid_Image</th>\n",
              "      <th>Valid_Label</th>\n",
              "    </tr>\n",
              "  </thead>\n",
              "  <tbody>\n",
              "    <tr>\n",
              "      <th>1420</th>\n",
              "      <td>MURA-v1.1/valid/XR_HUMERUS/patient11608/study1...</td>\n",
              "      <td>1</td>\n",
              "    </tr>\n",
              "    <tr>\n",
              "      <th>1421</th>\n",
              "      <td>MURA-v1.1/valid/XR_HUMERUS/patient11608/study1...</td>\n",
              "      <td>1</td>\n",
              "    </tr>\n",
              "    <tr>\n",
              "      <th>1422</th>\n",
              "      <td>MURA-v1.1/valid/XR_HUMERUS/patient11214/study1...</td>\n",
              "      <td>1</td>\n",
              "    </tr>\n",
              "    <tr>\n",
              "      <th>1423</th>\n",
              "      <td>MURA-v1.1/valid/XR_HUMERUS/patient11214/study1...</td>\n",
              "      <td>1</td>\n",
              "    </tr>\n",
              "    <tr>\n",
              "      <th>1424</th>\n",
              "      <td>MURA-v1.1/valid/XR_HUMERUS/patient11609/study1...</td>\n",
              "      <td>1</td>\n",
              "    </tr>\n",
              "  </tbody>\n",
              "</table>\n",
              "</div>"
            ],
            "text/plain": [
              "                                            Valid_Image Valid_Label\n",
              "1420  MURA-v1.1/valid/XR_HUMERUS/patient11608/study1...           1\n",
              "1421  MURA-v1.1/valid/XR_HUMERUS/patient11608/study1...           1\n",
              "1422  MURA-v1.1/valid/XR_HUMERUS/patient11214/study1...           1\n",
              "1423  MURA-v1.1/valid/XR_HUMERUS/patient11214/study1...           1\n",
              "1424  MURA-v1.1/valid/XR_HUMERUS/patient11609/study1...           1"
            ]
          },
          "metadata": {
            "tags": []
          },
          "execution_count": 17
        }
      ]
    },
    {
      "cell_type": "code",
      "metadata": {
        "colab": {
          "base_uri": "https://localhost:8080/"
        },
        "id": "O2cGlkE2m-9W",
        "outputId": "90d35de4-448f-458a-98bd-bdd1d6c2665d"
      },
      "source": [
        "df_valid1.shape"
      ],
      "execution_count": null,
      "outputs": [
        {
          "output_type": "execute_result",
          "data": {
            "text/plain": [
              "(288, 2)"
            ]
          },
          "metadata": {
            "tags": []
          },
          "execution_count": 18
        }
      ]
    },
    {
      "cell_type": "code",
      "metadata": {
        "id": "UPFWXMRpm-9X"
      },
      "source": [
        "df_valid1['Valid_Image'] = '/content/drive/MyDrive/MuraDataset/' + df_valid1['Valid_Image']\n",
        "df_valid1.to_csv('Valid_set.csv', index=False)"
      ],
      "execution_count": null,
      "outputs": []
    },
    {
      "cell_type": "code",
      "metadata": {
        "id": "WuIBTzB_m-9Y"
      },
      "source": [
        "# Read Training and Validation .csv files\n",
        "train_df = pd.read_csv(\"./Train_set.csv\", dtype=str)\n",
        "# valid_df = pd.read_csv(\"./Valid_set.csv\", dtype=str)"
      ],
      "execution_count": null,
      "outputs": []
    },
    {
      "cell_type": "code",
      "metadata": {
        "id": "sqJOuXiHgvnA"
      },
      "source": [
        "valid_df = pd.read_csv(\"./Valid_set.csv\", dtype=str)"
      ],
      "execution_count": null,
      "outputs": []
    },
    {
      "cell_type": "code",
      "metadata": {
        "id": "8pRG1b0gm-9Z"
      },
      "source": [
        "train_data, test_data = train_test_split(train_df, test_size=0.1,random_state=4,stratify = train_df['Train_Label'])"
      ],
      "execution_count": null,
      "outputs": []
    },
    {
      "cell_type": "code",
      "metadata": {
        "id": "sv_gyeXrm-9Z"
      },
      "source": [
        "train_samples = pd.DataFrame(train_data)\n",
        "test_samples = pd.DataFrame(test_data)"
      ],
      "execution_count": null,
      "outputs": []
    },
    {
      "cell_type": "code",
      "metadata": {
        "colab": {
          "base_uri": "https://localhost:8080/"
        },
        "id": "LrHlonGJm-9a",
        "outputId": "b6fa4968-81e1-4532-b9ed-e18085d27733"
      },
      "source": [
        "print(len(train_samples))\n",
        "print(len(test_samples))"
      ],
      "execution_count": null,
      "outputs": [
        {
          "output_type": "stream",
          "text": [
            "1144\n",
            "128\n"
          ],
          "name": "stdout"
        }
      ]
    },
    {
      "cell_type": "code",
      "metadata": {
        "colab": {
          "base_uri": "https://localhost:8080/"
        },
        "id": "Ei4dj1O_4joj",
        "outputId": "b535aa12-811f-4e99-f413-bef1231fd0c8"
      },
      "source": [
        "# Import DenseNet169 pre-trained model\n",
        "dense_model = DenseNet169(include_top=False, weights='imagenet',pooling = 'avg')"
      ],
      "execution_count": null,
      "outputs": [
        {
          "output_type": "stream",
          "text": [
            "Downloading data from https://storage.googleapis.com/tensorflow/keras-applications/densenet/densenet169_weights_tf_dim_ordering_tf_kernels_notop.h5\n",
            "51879936/51877672 [==============================] - 0s 0us/step\n",
            "51888128/51877672 [==============================] - 0s 0us/step\n"
          ],
          "name": "stdout"
        }
      ]
    },
    {
      "cell_type": "code",
      "metadata": {
        "id": "J5jIyorz4jok"
      },
      "source": [
        "#Freeze the layers\n",
        "dense_model.trainable = False"
      ],
      "execution_count": null,
      "outputs": []
    },
    {
      "cell_type": "code",
      "metadata": {
        "colab": {
          "base_uri": "https://localhost:8080/"
        },
        "id": "ZVgUGcuh4jol",
        "outputId": "a35af8fe-4c68-47a9-b52c-9c7fe188a3b8"
      },
      "source": [
        "for layer in dense_model.layers[586:]:\n",
        "    layer.trainable = True\n",
        "\n",
        "    \n",
        "for layer in dense_model.layers:\n",
        "    print(layer,layer.trainable)     "
      ],
      "execution_count": null,
      "outputs": [
        {
          "output_type": "stream",
          "text": [
            "<keras.engine.input_layer.InputLayer object at 0x7f7a76df8190> False\n",
            "<keras.layers.convolutional.ZeroPadding2D object at 0x7f7a76d75f10> False\n",
            "<keras.layers.convolutional.Conv2D object at 0x7f7a76d2b1d0> False\n",
            "<keras.layers.normalization_v2.BatchNormalization object at 0x7f7a76d75ed0> False\n",
            "<keras.layers.core.Activation object at 0x7f7a76488990> False\n",
            "<keras.layers.convolutional.ZeroPadding2D object at 0x7f7a764df590> False\n",
            "<keras.layers.pooling.MaxPooling2D object at 0x7f7a764a13d0> False\n",
            "<keras.layers.normalization_v2.BatchNormalization object at 0x7f7a764a8890> False\n",
            "<keras.layers.core.Activation object at 0x7f7a764ac250> False\n",
            "<keras.layers.convolutional.Conv2D object at 0x7f7a764acc90> False\n",
            "<keras.layers.normalization_v2.BatchNormalization object at 0x7f7a764bb310> False\n",
            "<keras.layers.core.Activation object at 0x7f7a76ff6a50> False\n",
            "<keras.layers.convolutional.Conv2D object at 0x7f7a76ff6f50> False\n",
            "<keras.layers.merge.Concatenate object at 0x7f7a77000cd0> False\n",
            "<keras.layers.normalization_v2.BatchNormalization object at 0x7f7a77006990> False\n",
            "<keras.layers.core.Activation object at 0x7f7a7700e150> False\n",
            "<keras.layers.convolutional.Conv2D object at 0x7f7a77009210> False\n",
            "<keras.layers.normalization_v2.BatchNormalization object at 0x7f7a7701b210> False\n",
            "<keras.layers.core.Activation object at 0x7f7a7701e4d0> False\n",
            "<keras.layers.convolutional.Conv2D object at 0x7f7a7701ef50> False\n",
            "<keras.layers.merge.Concatenate object at 0x7f7a77022bd0> False\n",
            "<keras.layers.normalization_v2.BatchNormalization object at 0x7f7a77029e90> False\n",
            "<keras.layers.core.Activation object at 0x7f7a76fb6150> False\n",
            "<keras.layers.convolutional.Conv2D object at 0x7f7a7702fc10> False\n",
            "<keras.layers.normalization_v2.BatchNormalization object at 0x7f7a76fc1090> False\n",
            "<keras.layers.core.Activation object at 0x7f7a76fcb8d0> False\n",
            "<keras.layers.convolutional.Conv2D object at 0x7f7a76fcbdd0> False\n",
            "<keras.layers.merge.Concatenate object at 0x7f7a76d75550> False\n",
            "<keras.layers.normalization_v2.BatchNormalization object at 0x7f7a76fc53d0> False\n",
            "<keras.layers.core.Activation object at 0x7f7a76fdf150> False\n",
            "<keras.layers.convolutional.Conv2D object at 0x7f7a76fced10> False\n",
            "<keras.layers.normalization_v2.BatchNormalization object at 0x7f7a76fe3f50> False\n",
            "<keras.layers.core.Activation object at 0x7f7a76fea510> False\n",
            "<keras.layers.convolutional.Conv2D object at 0x7f7a76ff4cd0> False\n",
            "<keras.layers.merge.Concatenate object at 0x7f7a76fe3650> False\n",
            "<keras.layers.normalization_v2.BatchNormalization object at 0x7f7a76fce110> False\n",
            "<keras.layers.core.Activation object at 0x7f7a76fb6790> False\n",
            "<keras.layers.convolutional.Conv2D object at 0x7f7a77009ed0> False\n",
            "<keras.layers.normalization_v2.BatchNormalization object at 0x7f7a7701d650> False\n",
            "<keras.layers.core.Activation object at 0x7f7a7700e490> False\n",
            "<keras.layers.convolutional.Conv2D object at 0x7f7a77000610> False\n",
            "<keras.layers.merge.Concatenate object at 0x7f7a7701e590> False\n",
            "<keras.layers.normalization_v2.BatchNormalization object at 0x7f7a76d2bf90> False\n",
            "<keras.layers.core.Activation object at 0x7f7a76ec3310> False\n",
            "<keras.layers.convolutional.Conv2D object at 0x7f7a76ec3890> False\n",
            "<keras.layers.normalization_v2.BatchNormalization object at 0x7f7a76ec6950> False\n",
            "<keras.layers.core.Activation object at 0x7f7a76ecac10> False\n",
            "<keras.layers.convolutional.Conv2D object at 0x7f7a76ecfc50> False\n",
            "<keras.layers.merge.Concatenate object at 0x7f7a76ed8550> False\n",
            "<keras.layers.normalization_v2.BatchNormalization object at 0x7f7a764df890> False\n",
            "<keras.layers.core.Activation object at 0x7f7a76ee6810> False\n",
            "<keras.layers.convolutional.Conv2D object at 0x7f7a76edda90> False\n",
            "<keras.layers.pooling.AveragePooling2D object at 0x7f7a76eedd90> False\n",
            "<keras.layers.normalization_v2.BatchNormalization object at 0x7f7a76ef70d0> False\n",
            "<keras.layers.core.Activation object at 0x7f7a76efb150> False\n",
            "<keras.layers.convolutional.Conv2D object at 0x7f7a76efb9d0> False\n",
            "<keras.layers.normalization_v2.BatchNormalization object at 0x7f7a76e81c50> False\n",
            "<keras.layers.core.Activation object at 0x7f7a76efe210> False\n",
            "<keras.layers.convolutional.Conv2D object at 0x7f7a76e87e90> False\n",
            "<keras.layers.merge.Concatenate object at 0x7f7a76e90750> False\n",
            "<keras.layers.normalization_v2.BatchNormalization object at 0x7f7a76e979d0> False\n",
            "<keras.layers.core.Activation object at 0x7f7a76ea3150> False\n",
            "<keras.layers.convolutional.Conv2D object at 0x7f7a76ea3dd0> False\n",
            "<keras.layers.normalization_v2.BatchNormalization object at 0x7f7a76ea9bd0> False\n",
            "<keras.layers.core.Activation object at 0x7f7a76eb0490> False\n",
            "<keras.layers.convolutional.Conv2D object at 0x7f7a76e9e850> False\n",
            "<keras.layers.merge.Concatenate object at 0x7f7a76eba650> False\n",
            "<keras.layers.normalization_v2.BatchNormalization object at 0x7f7a76ebaa90> False\n",
            "<keras.layers.core.Activation object at 0x7f7a76e4b090> False\n",
            "<keras.layers.convolutional.Conv2D object at 0x7f7a76e4ba50> False\n",
            "<keras.layers.normalization_v2.BatchNormalization object at 0x7f7a76e4fb50> False\n",
            "<keras.layers.core.Activation object at 0x7f7a76e59610> False\n",
            "<keras.layers.convolutional.Conv2D object at 0x7f7a76e597d0> False\n",
            "<keras.layers.merge.Concatenate object at 0x7f7a76e63610> False\n",
            "<keras.layers.normalization_v2.BatchNormalization object at 0x7f7a76e66890> False\n",
            "<keras.layers.core.Activation object at 0x7f7a76e71050> False\n",
            "<keras.layers.convolutional.Conv2D object at 0x7f7a76e71a10> False\n",
            "<keras.layers.normalization_v2.BatchNormalization object at 0x7f7a76e59ed0> False\n",
            "<keras.layers.core.Activation object at 0x7f7a76eba090> False\n",
            "<keras.layers.convolutional.Conv2D object at 0x7f7a76eb6c10> False\n",
            "<keras.layers.merge.Concatenate object at 0x7f7a7831ca50> False\n",
            "<keras.layers.normalization_v2.BatchNormalization object at 0x7f7a76ea9950> False\n",
            "<keras.layers.core.Activation object at 0x7f7a76efbcd0> False\n",
            "<keras.layers.convolutional.Conv2D object at 0x7f7a76eed050> False\n",
            "<keras.layers.normalization_v2.BatchNormalization object at 0x7f7a76ed8650> False\n",
            "<keras.layers.core.Activation object at 0x7f7a7701dcd0> False\n",
            "<keras.layers.convolutional.Conv2D object at 0x7f7a76ff51d0> False\n",
            "<keras.layers.merge.Concatenate object at 0x7f7a76ff6ed0> False\n",
            "<keras.layers.normalization_v2.BatchNormalization object at 0x7f7a76ff4e10> False\n",
            "<keras.layers.core.Activation object at 0x7f7a76fc75d0> False\n",
            "<keras.layers.convolutional.Conv2D object at 0x7f7a76e7d690> False\n",
            "<keras.layers.normalization_v2.BatchNormalization object at 0x7f7a76dff790> False\n",
            "<keras.layers.core.Activation object at 0x7f7a76e01a10> False\n",
            "<keras.layers.convolutional.Conv2D object at 0x7f7a76e04810> False\n",
            "<keras.layers.merge.Concatenate object at 0x7f7a76e0d4d0> False\n",
            "<keras.layers.normalization_v2.BatchNormalization object at 0x7f7a76e0dd50> False\n",
            "<keras.layers.core.Activation object at 0x7f7a76e1c090> False\n",
            "<keras.layers.convolutional.Conv2D object at 0x7f7a76e0d750> False\n",
            "<keras.layers.normalization_v2.BatchNormalization object at 0x7f7a76e21750> False\n",
            "<keras.layers.core.Activation object at 0x7f7a76e249d0> False\n",
            "<keras.layers.convolutional.Conv2D object at 0x7f7a76e287d0> False\n",
            "<keras.layers.merge.Concatenate object at 0x7f7a76e31210> False\n",
            "<keras.layers.normalization_v2.BatchNormalization object at 0x7f7a76e31d50> False\n",
            "<keras.layers.core.Activation object at 0x7f7a72d1c090> False\n",
            "<keras.layers.convolutional.Conv2D object at 0x7f7a76e2ded0> False\n",
            "<keras.layers.normalization_v2.BatchNormalization object at 0x7f7a72d23710> False\n",
            "<keras.layers.core.Activation object at 0x7f7a72d26990> False\n",
            "<keras.layers.convolutional.Conv2D object at 0x7f7a72d2b790> False\n",
            "<keras.layers.merge.Concatenate object at 0x7f7a72d351d0> False\n",
            "<keras.layers.normalization_v2.BatchNormalization object at 0x7f7a72d35d10> False\n",
            "<keras.layers.core.Activation object at 0x7f7a72d3e5d0> False\n",
            "<keras.layers.convolutional.Conv2D object at 0x7f7a72d3e490> False\n",
            "<keras.layers.normalization_v2.BatchNormalization object at 0x7f7a72d4c6d0> False\n",
            "<keras.layers.core.Activation object at 0x7f7a72d4d950> False\n",
            "<keras.layers.convolutional.Conv2D object at 0x7f7a72d52750> False\n",
            "<keras.layers.merge.Concatenate object at 0x7f7a72cdb190> False\n",
            "<keras.layers.normalization_v2.BatchNormalization object at 0x7f7a72cdbcd0> False\n",
            "<keras.layers.core.Activation object at 0x7f7a72ce5590> False\n",
            "<keras.layers.convolutional.Conv2D object at 0x7f7a72d4c3d0> False\n",
            "<keras.layers.normalization_v2.BatchNormalization object at 0x7f7a72d4de10> False\n",
            "<keras.layers.core.Activation object at 0x7f7a72d2bb10> False\n",
            "<keras.layers.convolutional.Conv2D object at 0x7f7a72d3eed0> False\n",
            "<keras.layers.merge.Concatenate object at 0x7f7a72d4c250> False\n",
            "<keras.layers.normalization_v2.BatchNormalization object at 0x7f7a76e24f10> False\n",
            "<keras.layers.core.Activation object at 0x7f7a76e0d510> False\n",
            "<keras.layers.convolutional.Conv2D object at 0x7f7a76e089d0> False\n",
            "<keras.layers.normalization_v2.BatchNormalization object at 0x7f7a77014850> False\n",
            "<keras.layers.core.Activation object at 0x7f7a76e76e90> False\n",
            "<keras.layers.convolutional.Conv2D object at 0x7f7a764b2150> False\n",
            "<keras.layers.merge.Concatenate object at 0x7f7a76e014d0> False\n",
            "<keras.layers.normalization_v2.BatchNormalization object at 0x7f7a76eacc50> False\n",
            "<keras.layers.core.Activation object at 0x7f7a72cf22d0> False\n",
            "<keras.layers.convolutional.Conv2D object at 0x7f7a72cf2650> False\n",
            "<keras.layers.normalization_v2.BatchNormalization object at 0x7f7a72cf73d0> False\n",
            "<keras.layers.core.Activation object at 0x7f7a72cf9790> False\n",
            "<keras.layers.convolutional.Conv2D object at 0x7f7a72cfe5d0> False\n",
            "<keras.layers.merge.Concatenate object at 0x7f7a72cf6e10> False\n",
            "<keras.layers.normalization_v2.BatchNormalization object at 0x7f7a72d08890> False\n",
            "<keras.layers.core.Activation object at 0x7f7a72d12c50> False\n",
            "<keras.layers.convolutional.Conv2D object at 0x7f7a72d0c550> False\n",
            "<keras.layers.pooling.AveragePooling2D object at 0x7f7a72c99950> False\n",
            "<keras.layers.normalization_v2.BatchNormalization object at 0x7f7a72c9ec90> False\n",
            "<keras.layers.core.Activation object at 0x7f7a72ca9090> False\n",
            "<keras.layers.convolutional.Conv2D object at 0x7f7a72c99690> False\n",
            "<keras.layers.normalization_v2.BatchNormalization object at 0x7f7a72caf850> False\n",
            "<keras.layers.core.Activation object at 0x7f7a72cc5a50> False\n",
            "<keras.layers.convolutional.Conv2D object at 0x7f7a72caf690> False\n",
            "<keras.layers.merge.Concatenate object at 0x7f7a72cc82d0> False\n",
            "<keras.layers.normalization_v2.BatchNormalization object at 0x7f7a72cc8d90> False\n",
            "<keras.layers.core.Activation object at 0x7f7a72ccc0d0> False\n",
            "<keras.layers.convolutional.Conv2D object at 0x7f7a72cd2550> False\n",
            "<keras.layers.normalization_v2.BatchNormalization object at 0x7f7a72c5b790> False\n",
            "<keras.layers.core.Activation object at 0x7f7a72cbe450> False\n",
            "<keras.layers.convolutional.Conv2D object at 0x7f7a72c64a50> False\n",
            "<keras.layers.merge.Concatenate object at 0x7f7a72c6d310> False\n",
            "<keras.layers.normalization_v2.BatchNormalization object at 0x7f7a72c6ddd0> False\n",
            "<keras.layers.core.Activation object at 0x7f7a72c79110> False\n",
            "<keras.layers.convolutional.Conv2D object at 0x7f7a72c69a10> False\n",
            "<keras.layers.normalization_v2.BatchNormalization object at 0x7f7a72c81790> False\n",
            "<keras.layers.core.Activation object at 0x7f7a72c88290> False\n",
            "<keras.layers.convolutional.Conv2D object at 0x7f7a72c83a10> False\n",
            "<keras.layers.merge.Concatenate object at 0x7f7a72c6fcd0> False\n",
            "<keras.layers.normalization_v2.BatchNormalization object at 0x7f7a72c69d10> False\n",
            "<keras.layers.core.Activation object at 0x7f7a72cd2590> False\n",
            "<keras.layers.convolutional.Conv2D object at 0x7f7a72cd7390> False\n",
            "<keras.layers.normalization_v2.BatchNormalization object at 0x7f7a72cc5d90> False\n",
            "<keras.layers.core.Activation object at 0x7f7a72ca9610> False\n",
            "<keras.layers.convolutional.Conv2D object at 0x7f7a72d16cd0> False\n",
            "<keras.layers.merge.Concatenate object at 0x7f7a72cc2750> False\n",
            "<keras.layers.normalization_v2.BatchNormalization object at 0x7f7a76eacc90> False\n",
            "<keras.layers.core.Activation object at 0x7f7a76eed090> False\n",
            "<keras.layers.convolutional.Conv2D object at 0x7f7a764b2210> False\n",
            "<keras.layers.normalization_v2.BatchNormalization object at 0x7f7a76e24cd0> False\n",
            "<keras.layers.core.Activation object at 0x7f7a72c93390> False\n",
            "<keras.layers.convolutional.Conv2D object at 0x7f7a72d1c850> False\n",
            "<keras.layers.merge.Concatenate object at 0x7f7a764b2410> False\n",
            "<keras.layers.normalization_v2.BatchNormalization object at 0x7f7a72c97b10> False\n",
            "<keras.layers.core.Activation object at 0x7f7a72c1e3d0> False\n",
            "<keras.layers.convolutional.Conv2D object at 0x7f7a72c1e290> False\n",
            "<keras.layers.normalization_v2.BatchNormalization object at 0x7f7a72c27490> False\n",
            "<keras.layers.core.Activation object at 0x7f7a72c2c890> False\n",
            "<keras.layers.convolutional.Conv2D object at 0x7f7a72c30590> False\n",
            "<keras.layers.merge.Concatenate object at 0x7f7a72c1e850> False\n",
            "<keras.layers.normalization_v2.BatchNormalization object at 0x7f7a72c3dad0> False\n",
            "<keras.layers.core.Activation object at 0x7f7a72c43390> False\n",
            "<keras.layers.convolutional.Conv2D object at 0x7f7a72c43790> False\n",
            "<keras.layers.normalization_v2.BatchNormalization object at 0x7f7a72c4d490> False\n",
            "<keras.layers.core.Activation object at 0x7f7a72c53850> False\n",
            "<keras.layers.convolutional.Conv2D object at 0x7f7a72bd8690> False\n",
            "<keras.layers.merge.Concatenate object at 0x7f7a72c3f050> False\n",
            "<keras.layers.normalization_v2.BatchNormalization object at 0x7f7a72be2a90> False\n",
            "<keras.layers.core.Activation object at 0x7f7a72beb350> False\n",
            "<keras.layers.convolutional.Conv2D object at 0x7f7a72c4ded0> False\n",
            "<keras.layers.normalization_v2.BatchNormalization object at 0x7f7a72bf7450> False\n",
            "<keras.layers.core.Activation object at 0x7f7a72bfe090> False\n",
            "<keras.layers.convolutional.Conv2D object at 0x7f7a72bfe410> False\n",
            "<keras.layers.merge.Concatenate object at 0x7f7a72c0a390> False\n",
            "<keras.layers.normalization_v2.BatchNormalization object at 0x7f7a72c0aa10> False\n",
            "<keras.layers.core.Activation object at 0x7f7a72c13310> False\n",
            "<keras.layers.convolutional.Conv2D object at 0x7f7a72c0d0d0> False\n",
            "<keras.layers.normalization_v2.BatchNormalization object at 0x7f7a72b9d410> False\n",
            "<keras.layers.core.Activation object at 0x7f7a72ba5290> False\n",
            "<keras.layers.convolutional.Conv2D object at 0x7f7a72c0d790> False\n",
            "<keras.layers.merge.Concatenate object at 0x7f7a72b98350> False\n",
            "<keras.layers.normalization_v2.BatchNormalization object at 0x7f7a72bfe6d0> False\n",
            "<keras.layers.core.Activation object at 0x7f7a72bebe10> False\n",
            "<keras.layers.convolutional.Conv2D object at 0x7f7a72bdd410> False\n",
            "<keras.layers.normalization_v2.BatchNormalization object at 0x7f7a72c53cd0> False\n",
            "<keras.layers.core.Activation object at 0x7f7a72c27150> False\n",
            "<keras.layers.convolutional.Conv2D object at 0x7f7a76fcedd0> False\n",
            "<keras.layers.merge.Concatenate object at 0x7f7a72c4a2d0> False\n",
            "<keras.layers.normalization_v2.BatchNormalization object at 0x7f7a72b98f10> False\n",
            "<keras.layers.core.Activation object at 0x7f7a72d35490> False\n",
            "<keras.layers.convolutional.Conv2D object at 0x7f7a72cf9d50> False\n",
            "<keras.layers.normalization_v2.BatchNormalization object at 0x7f7a72c95690> False\n",
            "<keras.layers.core.Activation object at 0x7f7a72d01bd0> False\n",
            "<keras.layers.convolutional.Conv2D object at 0x7f7a72ca9910> False\n",
            "<keras.layers.merge.Concatenate object at 0x7f7a72c6fd10> False\n",
            "<keras.layers.normalization_v2.BatchNormalization object at 0x7f7a72bb2710> False\n",
            "<keras.layers.core.Activation object at 0x7f7a72bb2610> False\n",
            "<keras.layers.convolutional.Conv2D object at 0x7f7a72bb59d0> False\n",
            "<keras.layers.normalization_v2.BatchNormalization object at 0x7f7a72bb8590> False\n",
            "<keras.layers.core.Activation object at 0x7f7a72bb78d0> False\n",
            "<keras.layers.convolutional.Conv2D object at 0x7f7a72bb5c90> False\n",
            "<keras.layers.merge.Concatenate object at 0x7f7a72bcd0d0> False\n",
            "<keras.layers.normalization_v2.BatchNormalization object at 0x7f7a72bcd690> False\n",
            "<keras.layers.core.Activation object at 0x7f7a72bc3f90> False\n",
            "<keras.layers.convolutional.Conv2D object at 0x7f7a72bd2710> False\n",
            "<keras.layers.normalization_v2.BatchNormalization object at 0x7f7a72b5ce10> False\n",
            "<keras.layers.core.Activation object at 0x7f7a72d01c90> False\n",
            "<keras.layers.convolutional.Conv2D object at 0x7f7a72bd2f90> False\n",
            "<keras.layers.merge.Concatenate object at 0x7f7a72b6c490> False\n",
            "<keras.layers.normalization_v2.BatchNormalization object at 0x7f7a72b5c390> False\n",
            "<keras.layers.core.Activation object at 0x7f7a72bd2f50> False\n",
            "<keras.layers.convolutional.Conv2D object at 0x7f7a72b6c990> False\n",
            "<keras.layers.normalization_v2.BatchNormalization object at 0x7f7a72b5c650> False\n",
            "<keras.layers.core.Activation object at 0x7f7a72b70590> False\n",
            "<keras.layers.convolutional.Conv2D object at 0x7f7a72b77890> False\n",
            "<keras.layers.merge.Concatenate object at 0x7f7a72b81810> False\n",
            "<keras.layers.normalization_v2.BatchNormalization object at 0x7f7a72b8d510> False\n",
            "<keras.layers.core.Activation object at 0x7f7a72b8d390> False\n",
            "<keras.layers.convolutional.Conv2D object at 0x7f7a72b86990> False\n",
            "<keras.layers.normalization_v2.BatchNormalization object at 0x7f7a72b8de90> False\n",
            "<keras.layers.core.Activation object at 0x7f7a72b1e5d0> False\n",
            "<keras.layers.convolutional.Conv2D object at 0x7f7a72b1e690> False\n",
            "<keras.layers.merge.Concatenate object at 0x7f7a72b1e910> False\n",
            "<keras.layers.normalization_v2.BatchNormalization object at 0x7f7a72b1e390> False\n",
            "<keras.layers.core.Activation object at 0x7f7a72b2d190> False\n",
            "<keras.layers.convolutional.Conv2D object at 0x7f7a72b23d50> False\n",
            "<keras.layers.normalization_v2.BatchNormalization object at 0x7f7a72b28e10> False\n",
            "<keras.layers.core.Activation object at 0x7f7a72b77a10> False\n",
            "<keras.layers.convolutional.Conv2D object at 0x7f7a72b6c610> False\n",
            "<keras.layers.merge.Concatenate object at 0x7f7a72bb8650> False\n",
            "<keras.layers.normalization_v2.BatchNormalization object at 0x7f7a72b86dd0> False\n",
            "<keras.layers.core.Activation object at 0x7f7a72be5750> False\n",
            "<keras.layers.convolutional.Conv2D object at 0x7f7a72bebad0> False\n",
            "<keras.layers.normalization_v2.BatchNormalization object at 0x7f7a72c43150> False\n",
            "<keras.layers.core.Activation object at 0x7f7a72bebc50> False\n",
            "<keras.layers.convolutional.Conv2D object at 0x7f7a72c05c90> False\n",
            "<keras.layers.merge.Concatenate object at 0x7f7a72b3eb10> False\n",
            "<keras.layers.normalization_v2.BatchNormalization object at 0x7f7a72b42190> False\n",
            "<keras.layers.core.Activation object at 0x7f7a72b571d0> False\n",
            "<keras.layers.convolutional.Conv2D object at 0x7f7a72b46d90> False\n",
            "<keras.layers.normalization_v2.BatchNormalization object at 0x7f7a72bf0690> False\n",
            "<keras.layers.core.Activation object at 0x7f7a72ada890> False\n",
            "<keras.layers.convolutional.Conv2D object at 0x7f7a72ae7290> False\n",
            "<keras.layers.merge.Concatenate object at 0x7f7a72ae7e90> False\n",
            "<keras.layers.normalization_v2.BatchNormalization object at 0x7f7a72ae2990> False\n",
            "<keras.layers.core.Activation object at 0x7f7a72af3290> False\n",
            "<keras.layers.convolutional.Conv2D object at 0x7f7a72afa310> False\n",
            "<keras.layers.normalization_v2.BatchNormalization object at 0x7f7a72b4ebd0> False\n",
            "<keras.layers.core.Activation object at 0x7f7a72aeab50> False\n",
            "<keras.layers.convolutional.Conv2D object at 0x7f7a72afaa90> False\n",
            "<keras.layers.merge.Concatenate object at 0x7f7a72b0c8d0> False\n",
            "<keras.layers.normalization_v2.BatchNormalization object at 0x7f7a72b0c450> False\n",
            "<keras.layers.core.Activation object at 0x7f7a72b03d90> False\n",
            "<keras.layers.convolutional.Conv2D object at 0x7f7a72afd190> False\n",
            "<keras.layers.normalization_v2.BatchNormalization object at 0x7f7a72b12ed0> False\n",
            "<keras.layers.core.Activation object at 0x7f7a72a9bdd0> False\n",
            "<keras.layers.convolutional.Conv2D object at 0x7f7a72b54c90> False\n",
            "<keras.layers.merge.Concatenate object at 0x7f7a72aa1110> False\n",
            "<keras.layers.normalization_v2.BatchNormalization object at 0x7f7a72b03e50> False\n",
            "<keras.layers.core.Activation object at 0x7f7a72aa6d90> False\n",
            "<keras.layers.convolutional.Conv2D object at 0x7f7a72aa1e50> False\n",
            "<keras.layers.normalization_v2.BatchNormalization object at 0x7f7a72aad910> False\n",
            "<keras.layers.core.Activation object at 0x7f7a72b08890> False\n",
            "<keras.layers.convolutional.Conv2D object at 0x7f7a72b17ad0> False\n",
            "<keras.layers.merge.Concatenate object at 0x7f7a72ac0190> False\n",
            "<keras.layers.normalization_v2.BatchNormalization object at 0x7f7a72ac0c10> False\n",
            "<keras.layers.core.Activation object at 0x7f7a72ad05d0> False\n",
            "<keras.layers.convolutional.Conv2D object at 0x7f7a72ac0b10> False\n",
            "<keras.layers.normalization_v2.BatchNormalization object at 0x7f7a72ad50d0> False\n",
            "<keras.layers.core.Activation object at 0x7f7a72a5aa90> False\n",
            "<keras.layers.convolutional.Conv2D object at 0x7f7a72a63490> False\n",
            "<keras.layers.merge.Concatenate object at 0x7f7a72a5add0> False\n",
            "<keras.layers.normalization_v2.BatchNormalization object at 0x7f7a72ad5c50> False\n",
            "<keras.layers.core.Activation object at 0x7f7a72aeaa90> False\n",
            "<keras.layers.convolutional.Conv2D object at 0x7f7a72ac2e90> False\n",
            "<keras.layers.normalization_v2.BatchNormalization object at 0x7f7a72aa6410> False\n",
            "<keras.layers.core.Activation object at 0x7f7a72afaf10> False\n",
            "<keras.layers.convolutional.Conv2D object at 0x7f7a72c27810> False\n",
            "<keras.layers.merge.Concatenate object at 0x7f7a72ae2a10> False\n",
            "<keras.layers.normalization_v2.BatchNormalization object at 0x7f7a72a63f10> False\n",
            "<keras.layers.core.Activation object at 0x7f7a72b0cd90> False\n",
            "<keras.layers.convolutional.Conv2D object at 0x7f7a72b54650> False\n",
            "<keras.layers.normalization_v2.BatchNormalization object at 0x7f7a72be2350> False\n",
            "<keras.layers.core.Activation object at 0x7f7a72b4e350> False\n",
            "<keras.layers.convolutional.Conv2D object at 0x7f7a72bc8e50> False\n",
            "<keras.layers.merge.Concatenate object at 0x7f7a72b81b50> False\n",
            "<keras.layers.normalization_v2.BatchNormalization object at 0x7f7a72a74c50> False\n",
            "<keras.layers.core.Activation object at 0x7f7a72bb2f90> False\n",
            "<keras.layers.convolutional.Conv2D object at 0x7f7a72ad5650> False\n",
            "<keras.layers.normalization_v2.BatchNormalization object at 0x7f7a72bc80d0> False\n",
            "<keras.layers.core.Activation object at 0x7f7a72a81610> False\n",
            "<keras.layers.convolutional.Conv2D object at 0x7f7a72a68110> False\n",
            "<keras.layers.merge.Concatenate object at 0x7f7a72a68a50> False\n",
            "<keras.layers.normalization_v2.BatchNormalization object at 0x7f7a72a85c50> False\n",
            "<keras.layers.core.Activation object at 0x7f7a72a931d0> False\n",
            "<keras.layers.convolutional.Conv2D object at 0x7f7a72a68a90> False\n",
            "<keras.layers.normalization_v2.BatchNormalization object at 0x7f7a72a93750> False\n",
            "<keras.layers.core.Activation object at 0x7f7a72a22a50> False\n",
            "<keras.layers.convolutional.Conv2D object at 0x7f7a72a28d50> False\n",
            "<keras.layers.merge.Concatenate object at 0x7f7a72a22d90> False\n",
            "<keras.layers.normalization_v2.BatchNormalization object at 0x7f7a72a28bd0> False\n",
            "<keras.layers.core.Activation object at 0x7f7a72a39310> False\n",
            "<keras.layers.convolutional.Conv2D object at 0x7f7a72a39410> False\n",
            "<keras.layers.normalization_v2.BatchNormalization object at 0x7f7a72a34f90> False\n",
            "<keras.layers.core.Activation object at 0x7f7a72a3f2d0> False\n",
            "<keras.layers.convolutional.Conv2D object at 0x7f7a72a1fdd0> False\n",
            "<keras.layers.merge.Concatenate object at 0x7f7a72a45990> False\n",
            "<keras.layers.normalization_v2.BatchNormalization object at 0x7f7a72a50d50> False\n",
            "<keras.layers.core.Activation object at 0x7f7a729e0390> False\n",
            "<keras.layers.convolutional.Conv2D object at 0x7f7a72a4bdd0> False\n",
            "<keras.layers.normalization_v2.BatchNormalization object at 0x7f7a729e0050> False\n",
            "<keras.layers.core.Activation object at 0x7f7a729ed6d0> False\n",
            "<keras.layers.convolutional.Conv2D object at 0x7f7a729f5dd0> False\n",
            "<keras.layers.merge.Concatenate object at 0x7f7a729eda10> False\n",
            "<keras.layers.normalization_v2.BatchNormalization object at 0x7f7a729f5090> False\n",
            "<keras.layers.core.Activation object at 0x7f7a72a09090> False\n",
            "<keras.layers.convolutional.Conv2D object at 0x7f7a72a09610> False\n",
            "<keras.layers.normalization_v2.BatchNormalization object at 0x7f7a72a040d0> False\n",
            "<keras.layers.core.Activation object at 0x7f7a729db290> False\n",
            "<keras.layers.convolutional.Conv2D object at 0x7f7a72a45f10> False\n",
            "<keras.layers.merge.Concatenate object at 0x7f7a729ef210> False\n",
            "<keras.layers.normalization_v2.BatchNormalization object at 0x7f7a729dbe90> False\n",
            "<keras.layers.core.Activation object at 0x7f7a72a39490> False\n",
            "<keras.layers.convolutional.Conv2D object at 0x7f7a729e0f50> False\n",
            "<keras.layers.normalization_v2.BatchNormalization object at 0x7f7a72a81e10> False\n",
            "<keras.layers.core.Activation object at 0x7f7a72a39810> False\n",
            "<keras.layers.convolutional.Conv2D object at 0x7f7a72a8d810> False\n",
            "<keras.layers.merge.Concatenate object at 0x7f7a72a39ed0> False\n",
            "<keras.layers.normalization_v2.BatchNormalization object at 0x7f7a72ad5790> False\n",
            "<keras.layers.core.Activation object at 0x7f7a72a04790> False\n",
            "<keras.layers.convolutional.Conv2D object at 0x7f7a72a3f050> False\n",
            "<keras.layers.normalization_v2.BatchNormalization object at 0x7f7a72b46890> False\n",
            "<keras.layers.core.Activation object at 0x7f7a72998410> False\n",
            "<keras.layers.convolutional.Conv2D object at 0x7f7a72a3f8d0> False\n",
            "<keras.layers.merge.Concatenate object at 0x7f7a72998810> False\n",
            "<keras.layers.normalization_v2.BatchNormalization object at 0x7f7a729f5350> False\n",
            "<keras.layers.core.Activation object at 0x7f7a729a7f10> False\n",
            "<keras.layers.convolutional.Conv2D object at 0x7f7a729a7650> False\n",
            "<keras.layers.normalization_v2.BatchNormalization object at 0x7f7a729a7f50> False\n",
            "<keras.layers.core.Activation object at 0x7f7a7299b1d0> False\n",
            "<keras.layers.convolutional.Conv2D object at 0x7f7a729b75d0> False\n",
            "<keras.layers.merge.Concatenate object at 0x7f7a729b79d0> False\n",
            "<keras.layers.normalization_v2.BatchNormalization object at 0x7f7a729b7450> False\n",
            "<keras.layers.core.Activation object at 0x7f7a729ceb90> False\n",
            "<keras.layers.convolutional.Conv2D object at 0x7f7a729ce710> False\n",
            "<keras.layers.pooling.AveragePooling2D object at 0x7f7a729d2fd0> False\n",
            "<keras.layers.normalization_v2.BatchNormalization object at 0x7f7a729587d0> False\n",
            "<keras.layers.core.Activation object at 0x7f7a7295d450> False\n",
            "<keras.layers.convolutional.Conv2D object at 0x7f7a72958450> False\n",
            "<keras.layers.normalization_v2.BatchNormalization object at 0x7f7a7295db10> False\n",
            "<keras.layers.core.Activation object at 0x7f7a7296c390> False\n",
            "<keras.layers.convolutional.Conv2D object at 0x7f7a72961990> False\n",
            "<keras.layers.merge.Concatenate object at 0x7f7a7296c210> False\n",
            "<keras.layers.normalization_v2.BatchNormalization object at 0x7f7a72964710> False\n",
            "<keras.layers.core.Activation object at 0x7f7a72973650> False\n",
            "<keras.layers.convolutional.Conv2D object at 0x7f7a7297e3d0> False\n",
            "<keras.layers.normalization_v2.BatchNormalization object at 0x7f7a72981890> False\n",
            "<keras.layers.core.Activation object at 0x7f7a72992410> False\n",
            "<keras.layers.convolutional.Conv2D object at 0x7f7a72996910> False\n",
            "<keras.layers.merge.Concatenate object at 0x7f7a7298c8d0> False\n",
            "<keras.layers.normalization_v2.BatchNormalization object at 0x7f7a729960d0> False\n",
            "<keras.layers.core.Activation object at 0x7f7a7292c110> False\n",
            "<keras.layers.convolutional.Conv2D object at 0x7f7a72920350> False\n",
            "<keras.layers.normalization_v2.BatchNormalization object at 0x7f7a72925910> False\n",
            "<keras.layers.core.Activation object at 0x7f7a72986810> False\n",
            "<keras.layers.convolutional.Conv2D object at 0x7f7a72ac0f50> False\n",
            "<keras.layers.merge.Concatenate object at 0x7f7a72992a50> False\n",
            "<keras.layers.normalization_v2.BatchNormalization object at 0x7f7a72973490> False\n",
            "<keras.layers.core.Activation object at 0x7f7a729acfd0> False\n",
            "<keras.layers.convolutional.Conv2D object at 0x7f7a72a50290> False\n",
            "<keras.layers.normalization_v2.BatchNormalization object at 0x7f7a729ce050> False\n",
            "<keras.layers.core.Activation object at 0x7f7a7299ba90> False\n",
            "<keras.layers.convolutional.Conv2D object at 0x7f7a72a81790> False\n",
            "<keras.layers.merge.Concatenate object at 0x7f7a72998e90> False\n",
            "<keras.layers.normalization_v2.BatchNormalization object at 0x7f7a72a7cb90> False\n",
            "<keras.layers.core.Activation object at 0x7f7a72964410> False\n",
            "<keras.layers.convolutional.Conv2D object at 0x7f7a72941450> False\n",
            "<keras.layers.normalization_v2.BatchNormalization object at 0x7f7a72941f50> False\n",
            "<keras.layers.core.Activation object at 0x7f7a72931f90> False\n",
            "<keras.layers.convolutional.Conv2D object at 0x7f7a72941f90> False\n",
            "<keras.layers.merge.Concatenate object at 0x7f7a72a7c250> False\n",
            "<keras.layers.normalization_v2.BatchNormalization object at 0x7f7a72952a10> False\n",
            "<keras.layers.core.Activation object at 0x7f7a729522d0> False\n",
            "<keras.layers.convolutional.Conv2D object at 0x7f7a729435d0> False\n",
            "<keras.layers.normalization_v2.BatchNormalization object at 0x7f7a7293df90> False\n",
            "<keras.layers.core.Activation object at 0x7f7a728e7e90> False\n",
            "<keras.layers.convolutional.Conv2D object at 0x7f7a72956290> False\n",
            "<keras.layers.merge.Concatenate object at 0x7f7a728ef190> False\n",
            "<keras.layers.normalization_v2.BatchNormalization object at 0x7f7a7298ce50> False\n",
            "<keras.layers.core.Activation object at 0x7f7a7294c4d0> False\n",
            "<keras.layers.convolutional.Conv2D object at 0x7f7a728e01d0> False\n",
            "<keras.layers.normalization_v2.BatchNormalization object at 0x7f7a7294c590> False\n",
            "<keras.layers.core.Activation object at 0x7f7a728f9c90> False\n",
            "<keras.layers.convolutional.Conv2D object at 0x7f7a7290a750> False\n",
            "<keras.layers.merge.Concatenate object at 0x7f7a7290a290> False\n",
            "<keras.layers.normalization_v2.BatchNormalization object at 0x7f7a7290a150> False\n",
            "<keras.layers.core.Activation object at 0x7f7a7289b250> False\n",
            "<keras.layers.convolutional.Conv2D object at 0x7f7a728fe590> False\n",
            "<keras.layers.normalization_v2.BatchNormalization object at 0x7f7a7289b490> False\n",
            "<keras.layers.core.Activation object at 0x7f7a728b1e10> False\n",
            "<keras.layers.convolutional.Conv2D object at 0x7f7a72bcd250> False\n",
            "<keras.layers.merge.Concatenate object at 0x7f7a728a7e50> False\n",
            "<keras.layers.normalization_v2.BatchNormalization object at 0x7f7a728b1bd0> False\n",
            "<keras.layers.core.Activation object at 0x7f7a728b1290> False\n",
            "<keras.layers.convolutional.Conv2D object at 0x7f7a728c7a50> False\n",
            "<keras.layers.normalization_v2.BatchNormalization object at 0x7f7a7289b750> False\n",
            "<keras.layers.core.Activation object at 0x7f7a728d2110> False\n",
            "<keras.layers.convolutional.Conv2D object at 0x7f7a728d2850> False\n",
            "<keras.layers.merge.Concatenate object at 0x7f7a7285d190> False\n",
            "<keras.layers.normalization_v2.BatchNormalization object at 0x7f7a728bc590> False\n",
            "<keras.layers.core.Activation object at 0x7f7a728b6ed0> False\n",
            "<keras.layers.convolutional.Conv2D object at 0x7f7a7289b910> False\n",
            "<keras.layers.normalization_v2.BatchNormalization object at 0x7f7a728b13d0> False\n",
            "<keras.layers.core.Activation object at 0x7f7a729112d0> False\n",
            "<keras.layers.convolutional.Conv2D object at 0x7f7a728e7c90> False\n",
            "<keras.layers.merge.Concatenate object at 0x7f7a728cd390> False\n",
            "<keras.layers.normalization_v2.BatchNormalization object at 0x7f7a7289bcd0> False\n",
            "<keras.layers.core.Activation object at 0x7f7a729c3510> False\n",
            "<keras.layers.convolutional.Conv2D object at 0x7f7a728f31d0> False\n",
            "<keras.layers.normalization_v2.BatchNormalization object at 0x7f7a729969d0> False\n",
            "<keras.layers.core.Activation object at 0x7f7a72925cd0> False\n",
            "<keras.layers.convolutional.Conv2D object at 0x7f7a729d2410> False\n",
            "<keras.layers.merge.Concatenate object at 0x7f7a729cec90> False\n",
            "<keras.layers.normalization_v2.BatchNormalization object at 0x7f7a72961e10> False\n",
            "<keras.layers.core.Activation object at 0x7f7a7286aad0> False\n",
            "<keras.layers.convolutional.Conv2D object at 0x7f7a72961d50> False\n",
            "<keras.layers.normalization_v2.BatchNormalization object at 0x7f7a72ac21d0> False\n",
            "<keras.layers.core.Activation object at 0x7f7a72958cd0> False\n",
            "<keras.layers.convolutional.Conv2D object at 0x7f7a72866810> False\n",
            "<keras.layers.merge.Concatenate object at 0x7f7a7287add0> False\n",
            "<keras.layers.normalization_v2.BatchNormalization object at 0x7f7a7290a850> False\n",
            "<keras.layers.core.Activation object at 0x7f7a72885450> False\n",
            "<keras.layers.convolutional.Conv2D object at 0x7f7a72866ed0> False\n",
            "<keras.layers.normalization_v2.BatchNormalization object at 0x7f7a728702d0> False\n",
            "<keras.layers.core.Activation object at 0x7f7a7281d110> False\n",
            "<keras.layers.convolutional.Conv2D object at 0x7f7a7281df50> False\n",
            "<keras.layers.merge.Concatenate object at 0x7f7a72895e90> False\n",
            "<keras.layers.normalization_v2.BatchNormalization object at 0x7f7a7281d350> False\n",
            "<keras.layers.core.Activation object at 0x7f7a7282f290> False\n",
            "<keras.layers.convolutional.Conv2D object at 0x7f7a72829a90> False\n",
            "<keras.layers.normalization_v2.BatchNormalization object at 0x7f7a7282f0d0> False\n",
            "<keras.layers.core.Activation object at 0x7f7a72839710> False\n",
            "<keras.layers.convolutional.Conv2D object at 0x7f7a72839750> False\n",
            "<keras.layers.merge.Concatenate object at 0x7f7a72839a50> False\n",
            "<keras.layers.normalization_v2.BatchNormalization object at 0x7f7a72843090> False\n",
            "<keras.layers.core.Activation object at 0x7f7a7283ee90> False\n",
            "<keras.layers.convolutional.Conv2D object at 0x7f7a72835390> False\n",
            "<keras.layers.normalization_v2.BatchNormalization object at 0x7f7a7282f950> False\n",
            "<keras.layers.core.Activation object at 0x7f7a72843d50> False\n",
            "<keras.layers.convolutional.Conv2D object at 0x7f7a72855810> False\n",
            "<keras.layers.merge.Concatenate object at 0x7f7a727e0b10> False\n",
            "<keras.layers.normalization_v2.BatchNormalization object at 0x7f7a727e9110> False\n",
            "<keras.layers.core.Activation object at 0x7f7a72800190> False\n",
            "<keras.layers.convolutional.Conv2D object at 0x7f7a72800710> False\n",
            "<keras.layers.normalization_v2.BatchNormalization object at 0x7f7a727fc090> False\n",
            "<keras.layers.core.Activation object at 0x7f7a7284e190> False\n",
            "<keras.layers.convolutional.Conv2D object at 0x7f7a72829490> False\n",
            "<keras.layers.merge.Concatenate object at 0x7f7a7284a050> False\n",
            "<keras.layers.normalization_v2.BatchNormalization object at 0x7f7a72800290> False\n",
            "<keras.layers.core.Activation object at 0x7f7a7288c5d0> False\n",
            "<keras.layers.convolutional.Conv2D object at 0x7f7a7281d4d0> False\n",
            "<keras.layers.normalization_v2.BatchNormalization object at 0x7f7a72862f90> False\n",
            "<keras.layers.core.Activation object at 0x7f7a72800310> False\n",
            "<keras.layers.convolutional.Conv2D object at 0x7f7a728a7890> False\n",
            "<keras.layers.merge.Concatenate object at 0x7f7a727e93d0> False\n",
            "<keras.layers.normalization_v2.BatchNormalization object at 0x7f7a728ab650> False\n",
            "<keras.layers.core.Activation object at 0x7f7a72835cd0> False\n",
            "<keras.layers.convolutional.Conv2D object at 0x7f7a727ed110> False\n",
            "<keras.layers.normalization_v2.BatchNormalization object at 0x7f7a7280ed10> False\n",
            "<keras.layers.core.Activation object at 0x7f7a72892d90> False\n",
            "<keras.layers.convolutional.Conv2D object at 0x7f7a727ed490> False\n",
            "<keras.layers.merge.Concatenate object at 0x7f7a7287a810> False\n",
            "<keras.layers.normalization_v2.BatchNormalization object at 0x7f7a7279bd50> False\n",
            "<keras.layers.core.Activation object at 0x7f7a7279b910> False\n",
            "<keras.layers.convolutional.Conv2D object at 0x7f7a727a1b10> False\n",
            "<keras.layers.normalization_v2.BatchNormalization object at 0x7f7a728433d0> False\n",
            "<keras.layers.core.Activation object at 0x7f7a728b6590> False\n",
            "<keras.layers.convolutional.Conv2D object at 0x7f7a727b2dd0> False\n",
            "<keras.layers.merge.Concatenate object at 0x7f7a727b2e10> False\n",
            "<keras.layers.normalization_v2.BatchNormalization object at 0x7f7a727bd6d0> False\n",
            "<keras.layers.core.Activation object at 0x7f7a727bd310> False\n",
            "<keras.layers.convolutional.Conv2D object at 0x7f7a727bdb50> False\n",
            "<keras.layers.normalization_v2.BatchNormalization object at 0x7f7a727bdcd0> False\n",
            "<keras.layers.core.Activation object at 0x7f7a727d4050> False\n",
            "<keras.layers.convolutional.Conv2D object at 0x7f7a727d4f10> False\n",
            "<keras.layers.merge.Concatenate object at 0x7f7a727cfed0> False\n",
            "<keras.layers.normalization_v2.BatchNormalization object at 0x7f7a727d4550> False\n",
            "<keras.layers.core.Activation object at 0x7f7a72766450> False\n",
            "<keras.layers.convolutional.Conv2D object at 0x7f7a727cbc10> False\n",
            "<keras.layers.normalization_v2.BatchNormalization object at 0x7f7a72766110> False\n",
            "<keras.layers.core.Activation object at 0x7f7a72770790> False\n",
            "<keras.layers.convolutional.Conv2D object at 0x7f7a7276af50> False\n",
            "<keras.layers.merge.Concatenate object at 0x7f7a72770ad0> False\n",
            "<keras.layers.normalization_v2.BatchNormalization object at 0x7f7a7277b1d0> False\n",
            "<keras.layers.core.Activation object at 0x7f7a7278f150> False\n",
            "<keras.layers.convolutional.Conv2D object at 0x7f7a7277fc90> False\n",
            "<keras.layers.normalization_v2.BatchNormalization object at 0x7f7a72766990> False\n",
            "<keras.layers.core.Activation object at 0x7f7a72797810> False\n",
            "<keras.layers.convolutional.Conv2D object at 0x7f7a7271f210> False\n",
            "<keras.layers.merge.Concatenate object at 0x7f7a72797b50> False\n",
            "<keras.layers.normalization_v2.BatchNormalization object at 0x7f7a7271f150> False\n",
            "<keras.layers.core.Activation object at 0x7f7a7277fad0> False\n",
            "<keras.layers.convolutional.Conv2D object at 0x7f7a7278a550> False\n",
            "<keras.layers.normalization_v2.BatchNormalization object at 0x7f7a7277bd90> False\n",
            "<keras.layers.core.Activation object at 0x7f7a727d4f50> False\n",
            "<keras.layers.convolutional.Conv2D object at 0x7f7a7279b610> False\n",
            "<keras.layers.merge.Concatenate object at 0x7f7a7280e250> False\n",
            "<keras.layers.normalization_v2.BatchNormalization object at 0x7f7a7276a610> False\n",
            "<keras.layers.core.Activation object at 0x7f7a7277bb50> False\n",
            "<keras.layers.convolutional.Conv2D object at 0x7f7a72866f50> False\n",
            "<keras.layers.normalization_v2.BatchNormalization object at 0x7f7a72823190> False\n",
            "<keras.layers.core.Activation object at 0x7f7a727cb410> False\n",
            "<keras.layers.convolutional.Conv2D object at 0x7f7a72722f90> False\n",
            "<keras.layers.merge.Concatenate object at 0x7f7a72770610> False\n",
            "<keras.layers.normalization_v2.BatchNormalization object at 0x7f7a727745d0> False\n",
            "<keras.layers.core.Activation object at 0x7f7a7272e1d0> False\n",
            "<keras.layers.convolutional.Conv2D object at 0x7f7a72730810> False\n",
            "<keras.layers.normalization_v2.BatchNormalization object at 0x7f7a7278a890> False\n",
            "<keras.layers.core.Activation object at 0x7f7a7283e8d0> False\n",
            "<keras.layers.convolutional.Conv2D object at 0x7f7a7273b890> False\n",
            "<keras.layers.merge.Concatenate object at 0x7f7a72750fd0> False\n",
            "<keras.layers.normalization_v2.BatchNormalization object at 0x7f7a72755410> False\n",
            "<keras.layers.core.Activation object at 0x7f7a7273b450> False\n",
            "<keras.layers.convolutional.Conv2D object at 0x7f7a7274bd50> False\n",
            "<keras.layers.normalization_v2.BatchNormalization object at 0x7f7a72755a90> False\n",
            "<keras.layers.core.Activation object at 0x7f7a726e7510> False\n",
            "<keras.layers.convolutional.Conv2D object at 0x7f7a726e74d0> False\n",
            "<keras.layers.merge.Concatenate object at 0x7f7a726e7850> False\n",
            "<keras.layers.normalization_v2.BatchNormalization object at 0x7f7a726e7d50> False\n",
            "<keras.layers.core.Activation object at 0x7f7a7273fd10> False\n",
            "<keras.layers.convolutional.Conv2D object at 0x7f7a726f4b50> False\n",
            "<keras.layers.normalization_v2.BatchNormalization object at 0x7f7a726f8a50> False\n",
            "<keras.layers.core.Activation object at 0x7f7a726f88d0> False\n",
            "<keras.layers.convolutional.Conv2D object at 0x7f7a726eded0> False\n",
            "<keras.layers.merge.Concatenate object at 0x7f7a7270c590> False\n",
            "<keras.layers.normalization_v2.BatchNormalization object at 0x7f7a7270c190> False\n",
            "<keras.layers.core.Activation object at 0x7f7a7270c890> False\n",
            "<keras.layers.convolutional.Conv2D object at 0x7f7a72711fd0> False\n",
            "<keras.layers.normalization_v2.BatchNormalization object at 0x7f7a726a9d50> False\n",
            "<keras.layers.core.Activation object at 0x7f7a726ae190> False\n",
            "<keras.layers.convolutional.Conv2D object at 0x7f7a7269b290> False\n",
            "<keras.layers.merge.Concatenate object at 0x7f7a726ae4d0> False\n",
            "<keras.layers.normalization_v2.BatchNormalization object at 0x7f7a726b1290> False\n",
            "<keras.layers.core.Activation object at 0x7f7a726c21d0> False\n",
            "<keras.layers.convolutional.Conv2D object at 0x7f7a726bc610> False\n",
            "<keras.layers.normalization_v2.BatchNormalization object at 0x7f7a726cce50> False\n",
            "<keras.layers.core.Activation object at 0x7f7a7269b150> False\n",
            "<keras.layers.convolutional.Conv2D object at 0x7f7a726a95d0> False\n",
            "<keras.layers.merge.Concatenate object at 0x7f7a72711a90> False\n",
            "<keras.layers.normalization_v2.BatchNormalization object at 0x7f7a72699ed0> False\n",
            "<keras.layers.core.Activation object at 0x7f7a726f8d10> False\n",
            "<keras.layers.convolutional.Conv2D object at 0x7f7a726a9250> False\n",
            "<keras.layers.normalization_v2.BatchNormalization object at 0x7f7a72750bd0> False\n",
            "<keras.layers.core.Activation object at 0x7f7a7273f610> False\n",
            "<keras.layers.convolutional.Conv2D object at 0x7f7a726db1d0> False\n",
            "<keras.layers.merge.Concatenate object at 0x7f7a7278abd0> False\n",
            "<keras.layers.normalization_v2.BatchNormalization object at 0x7f7a726db2d0> False\n",
            "<keras.layers.core.Activation object at 0x7f7a72736dd0> False\n",
            "<keras.layers.convolutional.Conv2D object at 0x7f7a7286f810> False\n",
            "<keras.layers.normalization_v2.BatchNormalization object at 0x7f7a728666d0> False\n",
            "<keras.layers.core.Activation object at 0x7f7a726fd1d0> False\n",
            "<keras.layers.convolutional.Conv2D object at 0x7f7a726ccd50> False\n",
            "<keras.layers.merge.Concatenate object at 0x7f7a72afdfd0> False\n",
            "<keras.layers.normalization_v2.BatchNormalization object at 0x7f7a726d7110> True\n",
            "<keras.layers.core.Activation object at 0x7f7a7276a1d0> True\n",
            "<keras.layers.convolutional.Conv2D object at 0x7f7a726d7750> True\n",
            "<keras.layers.normalization_v2.BatchNormalization object at 0x7f7a72730f90> True\n",
            "<keras.layers.core.Activation object at 0x7f7a72682e90> True\n",
            "<keras.layers.convolutional.Conv2D object at 0x7f7a726633d0> True\n",
            "<keras.layers.merge.Concatenate object at 0x7f7a72689110> True\n",
            "<keras.layers.normalization_v2.BatchNormalization object at 0x7f7a728d7150> True\n",
            "<keras.layers.core.Activation object at 0x7f7a726963d0> True\n",
            "<keras.layers.pooling.GlobalAveragePooling2D object at 0x7f7a72689d90> True\n"
          ],
          "name": "stdout"
        }
      ]
    },
    {
      "cell_type": "code",
      "metadata": {
        "id": "UN5-ZUlR4jom"
      },
      "source": [
        "predictions = Dense(1, activation='sigmoid')(dense_model.layers[-1].output)\n",
        "model = Model(inputs=dense_model.input, outputs=predictions)"
      ],
      "execution_count": null,
      "outputs": []
    },
    {
      "cell_type": "code",
      "metadata": {
        "id": "efxgPGTp4jon"
      },
      "source": [
        "filepath = '/content/drive/MyDrive/MuraDataset/'\n",
        "model.load_weights(filepath+'bestmodel/humerusmodel-00008-0.19312-0.83392-0.20606-0.81250.h5',by_name = True)"
      ],
      "execution_count": null,
      "outputs": []
    },
    {
      "cell_type": "code",
      "metadata": {
        "id": "xHrOjl894joo"
      },
      "source": [
        ""
      ],
      "execution_count": null,
      "outputs": []
    },
    {
      "cell_type": "code",
      "metadata": {
        "id": "52m6fNHdpNIH"
      },
      "source": [
        "import cv2\n",
        "def get_testdata():\n",
        "    image_data = []\n",
        "    x_data = []\n",
        "    y_data = []\n",
        "    for index, row in test_samples.iterrows():\n",
        "        image_data_temp = cv2.imread(row[0],cv2.IMREAD_COLOR)                 # Read Image as numbers\n",
        "        image_temp_resize = cv2.resize(image_data_temp,(300,300))\n",
        "        image_data.append([image_temp_resize,row[1]])\n",
        "    data = np.asanyarray(image_data)    \n",
        "\n",
        "    for x in data:\n",
        "        x_data.append(x[0])        # Get the X_Data\n",
        "        y_data.append(x[1])        # get the label\n",
        "              \n",
        "    X_Data = np.asarray(x_data) / (255.0)      # Normalize Data\n",
        "    Y_Data = np.asarray(y_data)\n",
        "        \n",
        "            # reshape x_Data\n",
        "\n",
        "    X_Data = X_Data.reshape(-1, 300, 300, 3)\n",
        "\n",
        "    return X_Data,Y_Data"
      ],
      "execution_count": null,
      "outputs": []
    },
    {
      "cell_type": "code",
      "metadata": {
        "colab": {
          "base_uri": "https://localhost:8080/"
        },
        "id": "nslmHZDmpNNL",
        "outputId": "807a2e18-c3d7-406e-e5d6-1e9e606116bc"
      },
      "source": [
        "testx1,testy1 = get_testdata()\n",
        "print(testx1.shape)\n",
        "print(testy1.shape)"
      ],
      "execution_count": null,
      "outputs": [
        {
          "output_type": "stream",
          "text": [
            "(128, 300, 300, 3)\n",
            "(128,)\n"
          ],
          "name": "stdout"
        },
        {
          "output_type": "stream",
          "text": [
            "/usr/local/lib/python3.7/dist-packages/numpy/core/_asarray.py:136: VisibleDeprecationWarning: Creating an ndarray from ragged nested sequences (which is a list-or-tuple of lists-or-tuples-or ndarrays with different lengths or shapes) is deprecated. If you meant to do this, you must specify 'dtype=object' when creating the ndarray\n",
            "  return array(a, dtype, copy=False, order=order, subok=True)\n"
          ],
          "name": "stderr"
        }
      ]
    },
    {
      "cell_type": "code",
      "metadata": {
        "id": "F2tJdnf2sYeO"
      },
      "source": [
        "testy1 = list(map(int, testy1))"
      ],
      "execution_count": null,
      "outputs": []
    },
    {
      "cell_type": "code",
      "metadata": {
        "id": "Dh7zSqFFpNUS"
      },
      "source": [
        "# predict probabilities for test set\n",
        "y_probs = model.predict(testx1 , verbose=0)\n",
        "# predict crisp classes for test set\n",
        "y_classes = (y_probs > 0.5).astype('int32')\n"
      ],
      "execution_count": null,
      "outputs": []
    },
    {
      "cell_type": "code",
      "metadata": {
        "id": "moIocQHLpNX8"
      },
      "source": [
        "# reduce to 1d array\n",
        "y_probs = y_probs[:, 0]\n",
        "y_classes = y_classes[:, 0]"
      ],
      "execution_count": null,
      "outputs": []
    },
    {
      "cell_type": "code",
      "metadata": {
        "id": "fW1_SRuaqFYS"
      },
      "source": [
        "from sklearn.metrics import accuracy_score,precision_score,recall_score,f1_score,cohen_kappa_score,roc_auc_score,confusion_matrix"
      ],
      "execution_count": null,
      "outputs": []
    },
    {
      "cell_type": "code",
      "metadata": {
        "colab": {
          "base_uri": "https://localhost:8080/"
        },
        "id": "VyycG5ZMqFTf",
        "outputId": "f74fa1ee-7502-4d36-e07d-060f0680f7d9"
      },
      "source": [
        "# accuracy: (tp + tn) / (p + n)\n",
        "test_accuracy = accuracy_score(testy1, y_classes)\n",
        "print('Accuracy: %f' % test_accuracy)\n",
        "# precision tp / (tp + fp)\n",
        "test_precision = precision_score(testy1, y_classes)\n",
        "print('Precision: %f' % test_precision)\n",
        "# recall: tp / (tp + fn)\n",
        "test_recall = recall_score(testy1, y_classes)\n",
        "print('Recall: %f' % test_recall)\n",
        "# f1: 2 tp / (2 tp + fp + fn)\n",
        "test_f1 = f1_score(testy1, y_classes)\n",
        "print('F1 score: %f' % test_f1)\n",
        "# kappa\n",
        "test_kappa = cohen_kappa_score(testy1, y_classes)\n",
        "print('Cohens kappa: %f' % test_kappa)\n",
        "# ROC AUC\n",
        "test_auc = roc_auc_score(testy1, y_probs)\n",
        "print('ROC AUC: %f' % test_auc)\n",
        "# confusion matrix\n",
        "test_matrix = confusion_matrix(testy1, y_classes)\n",
        "print(test_matrix)"
      ],
      "execution_count": null,
      "outputs": [
        {
          "output_type": "stream",
          "text": [
            "Accuracy: 0.859375\n",
            "Precision: 0.903846\n",
            "Recall: 0.783333\n",
            "F1 score: 0.839286\n",
            "Cohens kappa: 0.715415\n",
            "ROC AUC: 0.921324\n",
            "[[63  5]\n",
            " [13 47]]\n"
          ],
          "name": "stdout"
        }
      ]
    },
    {
      "cell_type": "code",
      "metadata": {
        "id": "3LBuX_YDqFdp"
      },
      "source": [
        "from sklearn.metrics import roc_curve\n",
        "fpr_test, tpr_test, thresholds_test = roc_curve(testy1, y_probs)"
      ],
      "execution_count": null,
      "outputs": []
    },
    {
      "cell_type": "code",
      "metadata": {
        "id": "q3jFDtp3pNbm"
      },
      "source": [
        "from sklearn.metrics import auc\n",
        "auc_test = auc(fpr_test, tpr_test)"
      ],
      "execution_count": null,
      "outputs": []
    },
    {
      "cell_type": "code",
      "metadata": {
        "colab": {
          "base_uri": "https://localhost:8080/",
          "height": 518
        },
        "id": "uqJ9pUdWrzkM",
        "outputId": "a2199940-5ae6-4fad-f073-c5103fff5bfa"
      },
      "source": [
        "plt.figure(1,figsize=(8,8))\n",
        "plt.plot([0, 1], [0, 1], 'k--')\n",
        "plt.plot(fpr_test, tpr_test, label='(AUC = {:.3f})'.format(auc_test))\n",
        "plt.xlabel('False positive rate',fontsize=13)\n",
        "plt.ylabel('True positive rate',fontsize=13)\n",
        "plt.title('DenseNet169 - ROC curve for testdata(Humerus)',fontsize=15)\n",
        "plt.legend(loc='best')\n",
        "plt.savefig(filepath+'denseroctest_humerus',dpi=300)\n",
        "plt.show()"
      ],
      "execution_count": null,
      "outputs": [
        {
          "output_type": "display_data",
          "data": {
            "image/png": "[encoded data removed]",
            "text/plain": [
              "<Figure size 576x576 with 1 Axes>"
            ]
          },
          "metadata": {
            "tags": [],
            "needs_background": "light"
          }
        }
      ]
    },
    {
      "cell_type": "code",
      "metadata": {
        "id": "msi2mJatktjD"
      },
      "source": [
        "import cv2\n",
        "def get_data():\n",
        "    image_data = []\n",
        "    x_data = []\n",
        "    y_data = []\n",
        "    for index, row in valid_df.iterrows():\n",
        "        image_data_temp = cv2.imread(row[0],cv2.IMREAD_COLOR)                 # Read Image as numbers\n",
        "        image_temp_resize = cv2.resize(image_data_temp,(300,300))\n",
        "        image_data.append([image_temp_resize,row[1]])\n",
        "    data = np.asanyarray(image_data)    \n",
        "\n",
        "    for x in data:\n",
        "        x_data.append(x[0])        # Get the X_Data\n",
        "        y_data.append(x[1])        # get the label\n",
        "              \n",
        "    X_Data = np.asarray(x_data) / (255.0)      # Normalize Data\n",
        "    Y_Data = np.asarray(y_data)\n",
        "        \n",
        "            # reshape x_Data\n",
        "\n",
        "    X_Data = X_Data.reshape(-1, 300, 300, 3)\n",
        "\n",
        "    return X_Data,Y_Data"
      ],
      "execution_count": null,
      "outputs": []
    },
    {
      "cell_type": "code",
      "metadata": {
        "colab": {
          "base_uri": "https://localhost:8080/"
        },
        "id": "zmTFRIhquUrc",
        "outputId": "00c0a1b1-7322-4331-fe0c-15b66aff9c14"
      },
      "source": [
        "testX,testY = get_data()\n",
        "testY = list(map(int, testY))\n"
      ],
      "execution_count": null,
      "outputs": [
        {
          "output_type": "stream",
          "text": [
            "/usr/local/lib/python3.7/dist-packages/numpy/core/_asarray.py:136: VisibleDeprecationWarning: Creating an ndarray from ragged nested sequences (which is a list-or-tuple of lists-or-tuples-or ndarrays with different lengths or shapes) is deprecated. If you meant to do this, you must specify 'dtype=object' when creating the ndarray\n",
            "  return array(a, dtype, copy=False, order=order, subok=True)\n"
          ],
          "name": "stderr"
        }
      ]
    },
    {
      "cell_type": "code",
      "metadata": {
        "id": "Sinhy358GSwV"
      },
      "source": [
        "# predict probabilities for test set\n",
        "yhat_probs = model.predict(testX , verbose=0)\n",
        "# predict crisp classes for test set\n",
        "yhat_classes = (yhat_probs > 0.5).astype('int32')\n"
      ],
      "execution_count": null,
      "outputs": []
    },
    {
      "cell_type": "code",
      "metadata": {
        "id": "Dbzd8rX9tWHR"
      },
      "source": [
        "# reduce to 1d array\n",
        "yhat_probs = yhat_probs[:, 0]\n",
        "yhat_classes = yhat_classes[:, 0]"
      ],
      "execution_count": null,
      "outputs": []
    },
    {
      "cell_type": "code",
      "metadata": {
        "colab": {
          "base_uri": "https://localhost:8080/"
        },
        "id": "_Rvzn4PVN70f",
        "outputId": "c88c7933-280d-4aef-bddc-f4aaeda829d7"
      },
      "source": [
        "print(yhat_probs)"
      ],
      "execution_count": null,
      "outputs": [
        {
          "output_type": "stream",
          "text": [
            "[0.25082457 0.7503166  0.70423067 0.40597954 0.31056243 0.58075905\n",
            " 0.9029628  0.9225028  0.9293765  0.6364323  0.6132462  0.23347235\n",
            " 0.14787877 0.54216504 0.6741782  0.7116891  0.8619206  0.5242984\n",
            " 0.6462636  0.94951165 0.92987394 0.7983768  0.85620546 0.2659275\n",
            " 0.15808302 0.7408808  0.65452814 0.8522444  0.605567   0.5785958\n",
            " 0.10880786 0.28273416 0.18370193 0.8106761  0.8346285  0.7206426\n",
            " 0.7882289  0.70177615 0.9346143  0.8872913  0.6620245  0.5570986\n",
            " 0.55145025 0.3667093  0.2783574  0.8737619  0.49928403 0.9174813\n",
            " 0.8020281  0.6982237  0.57741654 0.836102   0.8878278  0.8854409\n",
            " 0.61142576 0.5619316  0.85873604 0.8373711  0.58007705 0.96420705\n",
            " 0.8381109  0.9207635  0.8099504  0.76195955 0.55682814 0.87205946\n",
            " 0.8508204  0.6401164  0.679232   0.1475532  0.39685372 0.51435095\n",
            " 0.28260776 0.7856268  0.77187467 0.8100101  0.97384405 0.93098116\n",
            " 0.9446128  0.9117955  0.69386566 0.74618924 0.76604027 0.8251966\n",
            " 0.8412434  0.89462173 0.20123217 0.22543204 0.7634893  0.534437\n",
            " 0.06392014 0.2701977  0.8204828  0.5499803  0.61806947 0.87348855\n",
            " 0.9304745  0.92646474 0.9255166  0.8373568  0.7917401  0.8825194\n",
            " 0.8060528  0.60387236 0.9439697  0.7867805  0.5834533  0.69086397\n",
            " 0.69602096 0.63680726 0.4480667  0.66865474 0.7759316  0.9309443\n",
            " 0.86095226 0.92921937 0.9285095  0.6488373  0.8980799  0.62861\n",
            " 0.78683054 0.7554854  0.6010756  0.9203933  0.9329061  0.9127638\n",
            " 0.77575    0.7818495  0.6093681  0.601715   0.75435305 0.24025127\n",
            " 0.8685774  0.93639207 0.9015533  0.9449086  0.7714244  0.89193213\n",
            " 0.81209886 0.6680859  0.16542917 0.06605396 0.10565317 0.20723677\n",
            " 0.08581609 0.08776569 0.12988576 0.03913042 0.3510489  0.28358912\n",
            " 0.07999736 0.04252499 0.24516484 0.5401858  0.57160556 0.727413\n",
            " 0.4907561  0.31307274 0.32095236 0.16701147 0.13144857 0.04025662\n",
            " 0.03102168 0.04669645 0.20689759 0.441314   0.37355268 0.46371657\n",
            " 0.09257844 0.16941679 0.4907572  0.05696359 0.13968644 0.09088632\n",
            " 0.06654972 0.07857615 0.20274845 0.2944799  0.28347796 0.23090225\n",
            " 0.46422932 0.17179823 0.5609081  0.10530582 0.2961082  0.226381\n",
            " 0.1470837  0.38599604 0.41734266 0.76783353 0.6250793  0.38808587\n",
            " 0.9105995  0.7486149  0.02267417 0.04339448 0.12706995 0.17156717\n",
            " 0.15465766 0.16638786 0.09523809 0.52070946 0.22103488 0.5828574\n",
            " 0.6914939  0.4801823  0.10199064 0.2844073  0.07728985 0.04690513\n",
            " 0.05852133 0.05778211 0.07045996 0.08390689 0.08698276 0.20376578\n",
            " 0.12210891 0.27731568 0.09453538 0.6485168  0.16856444 0.1463125\n",
            " 0.14438179 0.2371442  0.07588959 0.12791827 0.14514849 0.05810121\n",
            " 0.06355432 0.04056931 0.41992134 0.18398663 0.08108982 0.47607958\n",
            " 0.2762435  0.11702916 0.2352854  0.09823912 0.03934559 0.24192694\n",
            " 0.49999666 0.04609054 0.05254921 0.04680595 0.10750294 0.29855275\n",
            " 0.09865904 0.18017244 0.27090448 0.12327671 0.10592356 0.03925431\n",
            " 0.14389706 0.23317546 0.13156164 0.2778066  0.68102896 0.6570721\n",
            " 0.69342184 0.32826668 0.4948283  0.6121434  0.09333956 0.01952884\n",
            " 0.04983723 0.03626502 0.33465785 0.40489587 0.0578483  0.05715331\n",
            " 0.2691674  0.34408844 0.27858385 0.2208812  0.10357559 0.4437155\n",
            " 0.0676541  0.02938849 0.0483419  0.107995   0.20190442 0.19216725\n",
            " 0.3170802  0.10061201 0.0727936  0.11485106 0.06365183 0.15605786]\n"
          ],
          "name": "stdout"
        }
      ]
    },
    {
      "cell_type": "code",
      "metadata": {
        "colab": {
          "base_uri": "https://localhost:8080/"
        },
        "id": "q93qbse8N33n",
        "outputId": "36bfab68-3fd3-4cec-d05e-20e20b4c38c8"
      },
      "source": [
        "print(yhat_classes)"
      ],
      "execution_count": null,
      "outputs": [
        {
          "output_type": "stream",
          "text": [
            "[0 1 1 0 0 1 1 1 1 1 1 0 0 1 1 1 1 1 1 1 1 1 1 0 0 1 1 1 1 1 0 0 0 1 1 1 1\n",
            " 1 1 1 1 1 1 0 0 1 0 1 1 1 1 1 1 1 1 1 1 1 1 1 1 1 1 1 1 1 1 1 1 0 0 1 0 1\n",
            " 1 1 1 1 1 1 1 1 1 1 1 1 0 0 1 1 0 0 1 1 1 1 1 1 1 1 1 1 1 1 1 1 1 1 1 1 0\n",
            " 1 1 1 1 1 1 1 1 1 1 1 1 1 1 1 1 1 1 1 1 0 1 1 1 1 1 1 1 1 0 0 0 0 0 0 0 0\n",
            " 0 0 0 0 0 1 1 1 0 0 0 0 0 0 0 0 0 0 0 0 0 0 0 0 0 0 0 0 0 0 0 0 0 0 1 0 0\n",
            " 0 0 0 0 1 1 0 1 1 0 0 0 0 0 0 0 1 0 1 1 0 0 0 0 0 0 0 0 0 0 0 0 0 0 1 0 0\n",
            " 0 0 0 0 0 0 0 0 0 0 0 0 0 0 0 0 0 0 0 0 0 0 0 0 0 0 0 0 0 0 0 0 0 0 1 1 1\n",
            " 0 0 1 0 0 0 0 0 0 0 0 0 0 0 0 0 0 0 0 0 0 0 0 0 0 0 0 0 0]\n"
          ],
          "name": "stdout"
        }
      ]
    },
    {
      "cell_type": "code",
      "metadata": {
        "colab": {
          "base_uri": "https://localhost:8080/"
        },
        "id": "T6tvilyBOJ0n",
        "outputId": "12e35400-8575-4507-8de0-6e7e78a21e9e"
      },
      "source": [
        "print(testY)"
      ],
      "execution_count": null,
      "outputs": [
        {
          "output_type": "stream",
          "text": [
            "[1, 1, 1, 1, 1, 1, 1, 1, 1, 1, 1, 1, 1, 1, 1, 1, 1, 1, 1, 1, 1, 1, 1, 1, 1, 1, 1, 1, 1, 1, 1, 1, 1, 1, 1, 1, 1, 1, 1, 1, 1, 1, 1, 1, 1, 1, 1, 1, 1, 1, 1, 1, 1, 1, 1, 1, 1, 1, 1, 1, 1, 1, 1, 1, 1, 1, 1, 1, 1, 1, 1, 1, 1, 1, 1, 1, 1, 1, 1, 1, 1, 1, 1, 1, 1, 1, 1, 1, 1, 1, 1, 1, 1, 1, 1, 1, 1, 1, 1, 1, 1, 1, 1, 1, 1, 1, 1, 1, 1, 1, 1, 1, 1, 1, 1, 1, 1, 1, 1, 1, 1, 1, 1, 1, 1, 1, 1, 1, 1, 1, 1, 1, 1, 1, 1, 1, 1, 1, 1, 1, 0, 0, 0, 0, 0, 0, 0, 0, 0, 0, 0, 0, 0, 0, 0, 0, 0, 0, 0, 0, 0, 0, 0, 0, 0, 0, 0, 0, 0, 0, 0, 0, 0, 0, 0, 0, 0, 0, 0, 0, 0, 0, 0, 0, 0, 0, 0, 0, 0, 0, 0, 0, 0, 0, 0, 0, 0, 0, 0, 0, 0, 0, 0, 0, 0, 0, 0, 0, 0, 0, 0, 0, 0, 0, 0, 0, 0, 0, 0, 0, 0, 0, 0, 0, 0, 0, 0, 0, 0, 0, 0, 0, 0, 0, 0, 0, 0, 0, 0, 0, 0, 0, 0, 0, 0, 0, 0, 0, 0, 0, 0, 0, 0, 0, 0, 0, 0, 0, 0, 0, 0, 0, 0, 0, 0, 0, 0, 0, 0, 0, 0, 0, 0, 0, 0, 0, 0, 0, 0, 0, 0, 0, 0, 0, 0, 0, 0, 0]\n"
          ],
          "name": "stdout"
        }
      ]
    },
    {
      "cell_type": "code",
      "metadata": {
        "id": "_QyN7GphuS20"
      },
      "source": [
        "from sklearn.metrics import accuracy_score,precision_score,recall_score,f1_score,cohen_kappa_score,roc_auc_score,confusion_matrix"
      ],
      "execution_count": null,
      "outputs": []
    },
    {
      "cell_type": "code",
      "metadata": {
        "colab": {
          "base_uri": "https://localhost:8080/"
        },
        "id": "edqpGshjvmWj",
        "outputId": "7c368f87-99db-497b-a153-5d850b8c8a15"
      },
      "source": [
        "# accuracy: (tp + tn) / (p + n)\n",
        "accuracy = accuracy_score(testY, yhat_classes)\n",
        "print('Accuracy: %f' % accuracy)\n",
        "# precision tp / (tp + fp)\n",
        "precision = precision_score(testY, yhat_classes)\n",
        "print('Precision: %f' % precision)\n",
        "# recall: tp / (tp + fn)\n",
        "recall = recall_score(testY, yhat_classes)\n",
        "print('Recall: %f' % recall)\n",
        "# f1: 2 tp / (2 tp + fp + fn)\n",
        "f1 = f1_score(testY, yhat_classes)\n",
        "print('F1 score: %f' % f1)"
      ],
      "execution_count": null,
      "outputs": [
        {
          "output_type": "stream",
          "text": [
            "Accuracy: 0.868056\n",
            "Precision: 0.880597\n",
            "Recall: 0.842857\n",
            "F1 score: 0.861314\n"
          ],
          "name": "stdout"
        }
      ]
    },
    {
      "cell_type": "code",
      "metadata": {
        "colab": {
          "base_uri": "https://localhost:8080/"
        },
        "id": "YbvdKX4svqnZ",
        "outputId": "e0a32f37-4089-46de-ab6d-95b3c76de6f1"
      },
      "source": [
        "# kappa\n",
        "kappa = cohen_kappa_score(testY, yhat_classes)\n",
        "print('Cohens kappa: %f' % kappa)\n",
        "# ROC AUC\n",
        "auc = roc_auc_score(testY, yhat_probs)\n",
        "print('ROC AUC: %f' % auc)\n",
        "# confusion matrix\n",
        "matrix = confusion_matrix(testY, yhat_classes)\n",
        "print(matrix)"
      ],
      "execution_count": null,
      "outputs": [
        {
          "output_type": "stream",
          "text": [
            "Cohens kappa: 0.735601\n",
            "ROC AUC: 0.919739\n",
            "[[132  16]\n",
            " [ 22 118]]\n"
          ],
          "name": "stdout"
        }
      ]
    },
    {
      "cell_type": "code",
      "metadata": {
        "id": "7FoGrUZuq1y4"
      },
      "source": [
        "from sklearn.metrics import roc_curve\n",
        "fpr_keras, tpr_keras, thresholds_keras = roc_curve(testY, yhat_probs)"
      ],
      "execution_count": null,
      "outputs": []
    },
    {
      "cell_type": "code",
      "metadata": {
        "id": "D_oFGfPIgIIf"
      },
      "source": [
        "from sklearn.metrics import auc\n",
        "auc_keras = auc(fpr_keras, tpr_keras)"
      ],
      "execution_count": null,
      "outputs": []
    },
    {
      "cell_type": "code",
      "metadata": {
        "id": "KVG88VlkrLeP"
      },
      "source": [
        ""
      ],
      "execution_count": null,
      "outputs": []
    },
    {
      "cell_type": "code",
      "metadata": {
        "colab": {
          "base_uri": "https://localhost:8080/",
          "height": 518
        },
        "id": "OaglK66LgIkT",
        "outputId": "6d5c0137-16df-4031-ec47-c4f5238c3923"
      },
      "source": [
        "plt.figure(1,figsize=(8,8))\n",
        "plt.plot([0, 1], [0, 1], 'k--')\n",
        "plt.plot(fpr_keras, tpr_keras, label='(AUC = {:.3f})'.format(auc_keras))\n",
        "plt.xlabel('False positive rate',fontsize=13)\n",
        "plt.ylabel('True positive rate',fontsize=13)\n",
        "plt.title('DenseNet169 - ROC curve for Validationdata(Humerus)',fontsize=15)\n",
        "plt.legend(loc='best')\n",
        "plt.savefig(filepath+'denserocvalidation_humerus',dpi=300)\n",
        "plt.show()\n"
      ],
      "execution_count": null,
      "outputs": [
        {
          "output_type": "display_data",
          "data": {
            "image/png": "[encoded data removed]",
            "text/plain": [
              "<Figure size 576x576 with 1 Axes>"
            ]
          },
          "metadata": {
            "tags": [],
            "needs_background": "light"
          }
        }
      ]
    },
    {
      "cell_type": "code",
      "metadata": {
        "id": "bHShbicaSdc-"
      },
      "source": [
        ""
      ],
      "execution_count": null,
      "outputs": []
    },
    {
      "cell_type": "code",
      "metadata": {
        "id": "8Tve7Eg7Sdpv"
      },
      "source": [
        ""
      ],
      "execution_count": null,
      "outputs": []
    }
  ]
}